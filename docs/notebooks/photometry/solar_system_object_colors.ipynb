{
 "cells": [
  {
   "cell_type": "markdown",
   "id": "e2a6a8a9",
   "metadata": {},
   "source": [
    "### Solar System Object Colors ###\n",
    "\n",
    "This functions as a demo notebook of how to calculate colors of objects (in general),\n",
    "but is specifically targeted and extended toward solar system objects. \n",
    "\n",
    "Solar system objects usually have reported reflectance spectra, rather than the\n",
    "'as-observed' spectra. \n",
    "\n",
    "This notebook calculates synthetic colors for a sample of SMASSII reflectance spectra, and compares the results in LSST colors compared to SDSS colors. The results suggest that classification based on SDSS colors should work well in LSST, although the g band filter is likely not quite as optimal as SDSS (pending delivered filter curves). For objects bright enough to be visible in y band, the results may be even better as we will be able to prove new wavelength ranges. "
   ]
  },
  {
   "cell_type": "code",
   "execution_count": null,
   "id": "33986dc6",
   "metadata": {},
   "outputs": [],
   "source": [
    "import os\n",
    "import glob\n",
    "import numpy as np\n",
    "import matplotlib.pyplot as plt\n",
    "import matplotlib.cm as cm\n",
    "import colorcet\n",
    "import cycler\n",
    "import pandas as pd\n",
    "from scipy import signal\n",
    "from scipy.interpolate import interp1d\n",
    "import rubin_sim.phot_utils as phot_utils\n",
    "from rubin_sim.data import get_data_dir"
   ]
  },
  {
   "cell_type": "markdown",
   "id": "c83a19e5",
   "metadata": {},
   "source": [
    "For a starting point, let's demonstrate going from a reflectance spectra to an observed SED, and then observed colors (in LSST and/or other systems) using rubin_sim. "
   ]
  },
  {
   "cell_type": "code",
   "execution_count": null,
   "id": "296e1e3f",
   "metadata": {},
   "outputs": [],
   "source": [
    "# We have some sample asteroid spectra in rubin_sim_data_dir - this is what 'get_data_dir' returns.\n",
    "# However, those are 'observed' spectra (already includes a sample solar spectra)\n",
    "ast_templates = [k.replace('.dat.gz', '') for k in os.listdir(os.path.join(get_data_dir(), 'movingObjects')) \n",
    "                 if 'kurucz' not in k and 'harris' not in k]"
   ]
  },
  {
   "cell_type": "code",
   "execution_count": null,
   "id": "3808f130",
   "metadata": {},
   "outputs": [],
   "source": [
    "# Read the sso seds from disk (using rubin_sim.photUtils.Sed)\n",
    "sso = {}\n",
    "for k in ast_templates:\n",
    "    sso[k]= phot_utils.Sed()\n",
    "    sso[k].read_sed_flambda(os.path.join(get_data_dir(), 'movingObjects', f'{k}.dat.gz'))\n",
    "\n",
    "# Read the sun too\n",
    "sun = phot_utils.Sed()\n",
    "sun.read_sed_flambda(os.path.join(get_data_dir(), 'movingObjects', 'kurucz_sun.gz'))"
   ]
  },
  {
   "cell_type": "code",
   "execution_count": null,
   "id": "f48baec9",
   "metadata": {},
   "outputs": [],
   "source": [
    "# Let's visualize, with maybe a better way of cycling through the colors for the linestyles\n",
    "\n",
    "fig = plt.figure(figsize=(8, 5))\n",
    "ax = plt.gca()\n",
    "\n",
    "# Pick a subset to plot to make it less confusing\n",
    "subset = ['TNO', 'D', 'C', 'S', 'X', 'V']\n",
    "color = cm.rainbow(np.linspace(0, 1, len(subset)))\n",
    "ax.set_prop_cycle(cycler.cycler('color', color))\n",
    "\n",
    "# Normalize the SEDs so they fit on the same plot but still make a bit more sense\n",
    "# This particular normalization essentially makes all of the objects (and the sun) have\n",
    "# the same total flux over the wwavelen_min to wwavelen_max window\n",
    "wwavelen_min = 200\n",
    "wwavelen_max = 2000\n",
    "sun_window = np.where((sun.wavelen > wwavelen_min) & (sun.wavelen < wwavelen_max))\n",
    "sun_max = sun.flambda[sun_window].mean()\n",
    "\n",
    "for k in subset:\n",
    "    sso_window = np.where((sso[k].wavelen > wwavelen_min) & (sso[k].wavelen < wwavelen_max))\n",
    "    norm = sun_max / (sso[k].flambda[sso_window].mean())\n",
    "    plt.plot(sso[k].wavelen, sso[k].flambda * norm, label=k, linestyle=':')\n",
    "plt.plot(sun.wavelen, sun.flambda, 'k',  linestyle='-', label='Kurucz model sun')\n",
    "plt.legend(loc=(1.01, 0.0))\n",
    "plt.xlim(200, 2000)\n",
    "plt.xlabel('Wavelength (nm)', fontsize='large')\n",
    "plt.ylabel('F_lambda  (ergs/cm^s/s/nm)', fontsize='large')"
   ]
  },
  {
   "cell_type": "markdown",
   "id": "c15ba7f9",
   "metadata": {},
   "source": [
    "With these 'observed' spectra, it's pretty straight forward to calculate expected magnitudes in the LSST bandpasses."
   ]
  },
  {
   "cell_type": "code",
   "execution_count": null,
   "id": "5b2f138d",
   "metadata": {},
   "outputs": [],
   "source": [
    "# Read in the lsst total system bandpasses (this is QE, filters, telescope and sample atmosphere)\n",
    "lsst = {}\n",
    "lsst_filterlist = 'ugrizy'\n",
    "for f in lsst_filterlist:\n",
    "    lsst[f] = phot_utils.Bandpass()\n",
    "    lsst[f].read_throughput(os.path.join(get_data_dir(), 'throughputs', 'baseline', f'total_{f}.dat'))\n",
    "\n",
    "cmap = colorcet.cm['CET_R1'](np.linspace(0, 1, len(lsst_filterlist)))\n",
    "\n",
    "fig = plt.figure(figsize=(8,5))\n",
    "for i, f in enumerate(lsst_filterlist):\n",
    "    plt.plot(lsst[f].wavelen, lsst[f].sb, color=cmap[i])\n",
    "plt.xlabel('Wavelength (nm)', fontsize='large')\n",
    "plt.ylabel('Sb (throughput, 0-1)', fontsize='large')\n",
    "plt.grid(alpha=0.3)\n",
    "plt.ylim(0, 1)\n",
    "plt.axvline(450)\n",
    "plt.axvline(925)"
   ]
  },
  {
   "cell_type": "code",
   "execution_count": null,
   "id": "d11fd1bf",
   "metadata": {},
   "outputs": [],
   "source": [
    "# Note that we can also read in other bandpasses from the throughputs directory -- \n",
    "os.listdir(os.path.join(get_data_dir(), 'throughputs'))"
   ]
  },
  {
   "cell_type": "code",
   "execution_count": null,
   "id": "008ca349",
   "metadata": {},
   "outputs": [],
   "source": [
    "# Read in the sdss total system bandpasses (this is QE, filters, telescope and sample atmosphere, again)\n",
    "sdss = {}\n",
    "sdss_filterlist = 'ugriz'\n",
    "for f in sdss_filterlist:\n",
    "    sdss[f] = phot_utils.Bandpass()\n",
    "    sdss[f].read_throughput(os.path.join(get_data_dir(), 'throughputs', 'sdss', f'sdss_{f}.dat'))\n",
    "    sdss[f].resample_bandpass()\n",
    "\n",
    "cmap = colorcet.cm['CET_R1'](np.linspace(0, 1, len(lsst_filterlist)))\n",
    "\n",
    "fig = plt.figure(figsize=(8,5))\n",
    "for i, f in enumerate(sdss_filterlist):\n",
    "    plt.plot(sdss[f].wavelen, sdss[f].sb, color=cmap[i])\n",
    "for i, f in enumerate(lsst_filterlist):\n",
    "    plt.plot(lsst[f].wavelen, lsst[f].sb, linestyle=':', color=cmap[i])\n",
    "plt.xlabel('Wavelength (nm)', fontsize='large')\n",
    "plt.ylabel('Sb (throughput, 0-1)', fontsize='large')\n",
    "plt.grid(alpha=0.3)\n",
    "plt.ylim(0, 1)"
   ]
  },
  {
   "cell_type": "markdown",
   "id": "fd4a08f4",
   "metadata": {},
   "source": [
    "Calculating magnitudes in each of these bandpasses. \n",
    "\n",
    "Note that really we're looking for colors, so the overall normalization of the fluxes for each object (or the magnitudes in any given band) are not important; just the relative differences of the magnitudes. We'll use 'lsst r' as the reference for now. "
   ]
  },
  {
   "cell_type": "code",
   "execution_count": null,
   "id": "7bea8002",
   "metadata": {},
   "outputs": [],
   "source": [
    "refband_name = 'r'\n",
    "refband = lsst[refband_name]\n",
    "\n",
    "# Calculate the reference bandpass magnitudes\n",
    "refmags = {}\n",
    "for k in sso:\n",
    "    refmags[k] = sso[k].calc_mag(refband)\n",
    "\n",
    "# Calculate the colors\n",
    "colors = {}\n",
    "for k in sso:\n",
    "    colors[k] = {}\n",
    "    for f in lsst_filterlist:\n",
    "        colors[k][f'lsst_{f}'] = sso[k].calc_mag(lsst[f]) - refmags[k]\n",
    "        \n",
    "        \n",
    "# Let's calculate colors for SDSS -- but let's update refband so we're using sdss r \n",
    "refband = sdss[refband_name]\n",
    "\n",
    "# Calculate the reference bandpass magnitudes\n",
    "refmags = {}\n",
    "for k in sso:\n",
    "    refmags[k] = sso[k].calc_mag(refband)\n",
    "\n",
    "# Calculate the colors\n",
    "for k in sso:\n",
    "    for f in sdss_filterlist:\n",
    "        colors[k][f'sdss_{f}'] = sso[k].calc_mag(sdss[f]) - refmags[k]"
   ]
  },
  {
   "cell_type": "code",
   "execution_count": null,
   "id": "98f94b56",
   "metadata": {},
   "outputs": [],
   "source": [
    "df_colors = pd.DataFrame(colors)\n",
    "df_colors"
   ]
  },
  {
   "cell_type": "code",
   "execution_count": null,
   "id": "e9b04697",
   "metadata": {},
   "outputs": [],
   "source": [
    "# Also some people like V-x measurements.. \n",
    "Vband = phot_utils.Bandpass()\n",
    "Vband.read_throughput(os.path.join(get_data_dir(), 'movingObjects', 'harris_V.dat'))\n",
    "\n",
    "refband = Vband\n",
    "# Calculate the reference bandpass magnitudes\n",
    "refmags = {}\n",
    "for k in sso:\n",
    "    refmags[k] = sso[k].calc_mag(refband)\n",
    "\n",
    "Vcolors = {}\n",
    "# Calculate the colors\n",
    "for k in sso:\n",
    "    Vcolors[k] = {}\n",
    "    for f in lsst_filterlist:\n",
    "        Vcolors[k][f'V-{f}'] = refmags[k] - sso[k].calc_mag(lsst[f])\n",
    "pd.DataFrame(Vcolors).T"
   ]
  },
  {
   "cell_type": "code",
   "execution_count": null,
   "id": "4ffb88cb",
   "metadata": {},
   "outputs": [],
   "source": [
    "# Plot some color-color combinations\n",
    "c1 = 'lsst_g'  #g-r\n",
    "cc1 = 'sdss_g'\n",
    "c2 = 'lsst_i'  #i-r .. we'll flip so it's r-i\n",
    "cc2 = 'sdss_i'\n",
    "\n",
    "fig = plt.figure(figsize=(8,8)) \n",
    "cmap = colorcet.cm['CET_R2'](np.linspace(0, 1, len(sso)))\n",
    "\n",
    "sso_keys = sorted(list(sso.keys()))\n",
    "for i, k in enumerate(sso_keys):\n",
    "    c = cmap[i]\n",
    "    plt.plot(-colors[k][c2], colors[k][c1], linestyle='', marker='o', color=c, label=k)\n",
    "    plt.plot(-colors[k][cc2], colors[k][cc1], linestyle='', marker='x', color=c)\n",
    "    plt.plot([-colors[k][c2], -colors[k][cc2]],\n",
    "            [colors[k][c1], colors[k][cc1]], linestyle='-', marker='', color=c)\n",
    "plt.xlabel(f\"{refband_name} - {c2.replace('lsst_', '')}\")\n",
    "plt.ylabel(f\"{c1.replace('lsst_', '')} - {refband_name}\")\n",
    "plt.legend(loc=(1.01, 0.0))"
   ]
  },
  {
   "cell_type": "code",
   "execution_count": null,
   "id": "d3eecc8b",
   "metadata": {},
   "outputs": [],
   "source": [
    "# Plot some color-color combinations\n",
    "c1 = 'lsst_g'  #g-r\n",
    "cc1 = 'sdss_g'\n",
    "c2 = 'lsst_z'  #z-r .. we'll flip so it's r-z\n",
    "cc2 = 'sdss_z'\n",
    "\n",
    "fig = plt.figure(figsize=(8,8)) \n",
    "cmap = colorcet.cm['CET_R2'](np.linspace(0, 1, len(sso)))\n",
    "\n",
    "sso_keys = sorted(list(sso.keys()))\n",
    "for i, k in enumerate(sso_keys):\n",
    "    c = cmap[i]\n",
    "    plt.plot(-colors[k][c2], colors[k][c1], linestyle='', marker='o', color=c, label=k)\n",
    "    plt.plot(-colors[k][cc2], colors[k][cc1], linestyle='', marker='x', color=c)\n",
    "    plt.plot([-colors[k][c2], -colors[k][cc2]],\n",
    "            [colors[k][c1], colors[k][cc1]], linestyle='-', marker='', color=c)\n",
    "plt.xlabel(f\"{refband_name} - {c2.replace('lsst_', '')}\")\n",
    "plt.ylabel(f\"{c1.replace('lsst_', '')} - {refband_name}\")\n",
    "plt.legend(loc=(1.01, 0.0))"
   ]
  },
  {
   "cell_type": "markdown",
   "id": "42a81c04",
   "metadata": {},
   "source": [
    "So that's interesting and I'm not sure I quite understand what's going on. It's likely understandable that $z$ band colors change, as the $z$ bands in LSST are fairly different from SDSS. But this seems to show a big change in g-r colors as well, which I wasn't expecting. Could it be due to the slightly wider gap between g and r in SDSS? (this seems possible; it's a wavelength range where the asteroid observed SEDs are changing strongly due to the slope of the Sun's SED). "
   ]
  },
  {
   "cell_type": "markdown",
   "id": "2c3d9252",
   "metadata": {},
   "source": [
    "Anyway .. let's see if we get any further insights after loading up a range of reflectance spectra (which we can also demonstrate turning into the SEDs we use to calculate photometry).\n",
    "\n",
    "I downloaded the set of reflectance spectra from SMASS2 (Bus & Binzel), let's see what we can get.\n",
    "http://smass.mit.edu/smass.html\n",
    "\n",
    "https://sbn.psi.edu/pds/resource/smass2.html\n",
    "\n",
    "citation: \"Bus, S. and Binzel, R. P. (2020) Small Main-belt Asteroid Spectroscopic Survey, Phase II V1.0. urn:nasa:pds:gbo.ast.smass2.spectra::1.0. NASA Planetary Data System; https://doi.org/10.26033/fj1d-vb37.\" "
   ]
  },
  {
   "cell_type": "code",
   "execution_count": null,
   "id": "5fdf6332",
   "metadata": {},
   "outputs": [],
   "source": [
    "# grab from https://sbnarchive.psi.edu/pds4/non_mission/gbo.ast.smass2.spectra.zip\n",
    "ddir = 'gbo.ast.smass2.spectra/data'\n",
    "\n",
    "obj_files = glob.glob(f'{ddir}/data*/*.tab')\n",
    "test_file = obj_files[8]\n",
    "print(len(obj_files), test_file)"
   ]
  },
  {
   "cell_type": "code",
   "execution_count": null,
   "id": "97a486f0",
   "metadata": {},
   "outputs": [],
   "source": [
    "##### The SMASS2 data covers 435 - 925 nm. This means r, i, z band are relatively well covered,\n",
    "# but only ~half of g band is inside this wavelength range. We'll extrapolate at least to cover g.\n",
    "# I also extrapolated over u and y band, but these are probably really unreliable.\n",
    "\n",
    "def extend_smass(filename):\n",
    "    tt = pd.read_table(test_file, delim_whitespace=True, names=['wavelen', 'reflectance', 'reflectance_error'])\n",
    "    # A few files have extraneous wavelength = 0 entries so let's remove those\n",
    "    tt.query('wavelen > 0', inplace=True)\n",
    "    tt.wavelen = tt.wavelen * 1000 # convert to nm\n",
    "    # Get a smoothed version\n",
    "    # The spectra are typically constant wavelength spacing within some range, then a jump, then constant spacing\n",
    "    # Seems like this occurs around ~515 and ~750 nm (instrument configuration changes?)\n",
    "    # window length * 2.5nm = wavelength range (35 ~ 87nm )\n",
    "    sf = signal.savgol_filter(tt.reflectance,\n",
    "                                    window_length=35, \n",
    "                                    polyorder=3)\n",
    "\n",
    "    sf2 = signal.savgol_filter(tt.reflectance,\n",
    "                                window_length=35, \n",
    "                                polyorder=1)\n",
    "\n",
    "    tt['smoothed_reflectance'] = np.where(tt.reflectance_error > 0.03 * tt.reflectance, sf2, sf)\n",
    "    \n",
    "    # Note that all of these SEDs only reaches from 425 to 925 nm, cutting off at the red end of z band \n",
    "    # and midway through the g band, also missing all of the u and y bands (so those colors will not be reliable)\n",
    "\n",
    "    # Fit the slope for the blue end and try to extend it \n",
    "    bluest = tt.wavelen.min()\n",
    "    condition = ((tt.wavelen>bluest) & (tt.wavelen<bluest+100))    \n",
    "    wavelen_extend = np.arange(300, bluest+0.5, 1)\n",
    "    interp = interp1d(tt.wavelen[condition], tt.smoothed_reflectance[condition], \n",
    "                      kind='slinear', fill_value='extrapolate')\n",
    "    reflect_extend = interp(wavelen_extend)\n",
    "\n",
    "    wavelen_final = np.concatenate((wavelen_extend, tt.wavelen.values))\n",
    "    reflect_final = np.concatenate((reflect_extend, tt.smoothed_reflectance.values))\n",
    "    \n",
    "    # After some attempts to extend the red end .. I think this needs something \n",
    "    # better than a simple extrapolation, due to various actual bumps in the spectra that \n",
    "    # happen near 900 nm. But we can give it a go and remember y band is probably wrong.\n",
    "    condition = ((tt.wavelen>850) & (tt.wavelen < 925))\n",
    "    wavelen_extend = np.arange(tt.wavelen.max(), 1103, 1)\n",
    "    interp = interp1d(tt.wavelen[condition], tt.smoothed_reflectance[condition],\n",
    "                      kind='slinear', fill_value='extrapolate')\n",
    "    reflect_extend = interp(wavelen_extend)\n",
    "    wavelen_final = np.concatenate([wavelen_final, wavelen_extend])\n",
    "    reflect_final=np.concatenate([reflect_final, reflect_extend])\n",
    "    \n",
    "    \n",
    "    ast_sed = phot_utils.Sed()\n",
    "    ast_sed.set_sed(wavelen=wavelen_final, flambda=reflect_final)\n",
    "\n",
    "    return ast_sed"
   ]
  },
  {
   "cell_type": "code",
   "execution_count": null,
   "id": "f665394a",
   "metadata": {},
   "outputs": [],
   "source": [
    "# Read the files and add the extrapolations\n",
    "smass = {}\n",
    "names = []\n",
    "for test_file in obj_files: #['a000391.spfit', 'a005379.spfit', 'a002579.spfit']:\n",
    "    name = os.path.split(test_file)[-1].split('_')[0]\n",
    "    if name in names:\n",
    "        print(name)\n",
    "    names.append(name)\n",
    "    smass[name] = extend_smass(test_file)"
   ]
  },
  {
   "cell_type": "code",
   "execution_count": null,
   "id": "3b1ec4f8",
   "metadata": {},
   "outputs": [],
   "source": [
    "plt.figure(figsize=(8, 5))\n",
    "for k in smass:\n",
    "    plt.plot(smass[k].wavelen, smass[k].flambda)\n",
    "plt.axvline(925)\n",
    "plt.axvline(825, color='r', linestyle=':')\n",
    "plt.axvline(450)\n",
    "plt.axvline(525, color='r', linestyle=':')\n",
    "plt.title('Wavelength (nm)')\n",
    "plt.ylabel('Reflectance')\n",
    "plt.title('SMASS II')"
   ]
  },
  {
   "cell_type": "markdown",
   "id": "26a51948",
   "metadata": {},
   "source": [
    "Well -- anyway, that's probably close enough. \n",
    "Let's go ahead and turn them into SEDs we can use for calculating observed magnitudes. "
   ]
  },
  {
   "cell_type": "code",
   "execution_count": null,
   "id": "5e760947",
   "metadata": {},
   "outputs": [],
   "source": [
    "# Limit the wavelength range for the sun, just to reduce warning messages\n",
    "sun_limited = phot_utils.Sed()\n",
    "idx = np.where((sun.wavelen > 299) & (sun.wavelen < 1105))\n",
    "sun_limited.set_sed(wavelen=sun.wavelen[idx], flambda=sun.flambda[idx])\n",
    "sun_limited.resample_sed(wavelen_match=lsst['g'].wavelen)\n",
    "wavelen_step = np.unique(np.diff(lsst['g'].wavelen)).min()\n",
    "obs_smass = {}\n",
    "for k in smass:\n",
    "    smass[k].resample_sed(wavelen_match=lsst['g'].wavelen)\n",
    "    obs_smass[k] = smass[k].multiply_sed(sun_limited, wavelen_step=wavelen_step)"
   ]
  },
  {
   "cell_type": "code",
   "execution_count": null,
   "id": "27992a47",
   "metadata": {},
   "outputs": [],
   "source": [
    "plt.figure(figsize=(8, 5))\n",
    "for k in smass:\n",
    "    plt.plot(obs_smass[k].wavelen, obs_smass[k].flambda)\n",
    "plt.xlabel('Wavelength (nm)')\n",
    "plt.ylabel('Flambda')"
   ]
  },
  {
   "cell_type": "code",
   "execution_count": null,
   "id": "06f85632",
   "metadata": {},
   "outputs": [],
   "source": [
    "# Okay - so note that the filters have a wavelength grid that extends beyond the region that is reliable for the \n",
    "# input SEDS. The easiest way to handle this is to cut off the filters at long wavelengths.\n",
    "# Note, if you get Nans at any point in your magnitudes, it's because your filter is including a range of wavelength\n",
    "# that is not covered by the SED.\n",
    "\n",
    "lsst = {}\n",
    "lsst_filterlist = 'ugrizy'\n",
    "for f in lsst_filterlist:\n",
    "    lsst[f] = phot_utils.Bandpass()\n",
    "    lsst[f].read_throughput(os.path.join(get_data_dir(), 'throughputs', 'baseline', f'total_{f}.dat'))\n",
    "    lsst[f].resample_bandpass(wavelen_min=300, wavelen_max=1000)\n",
    "sdss = {}\n",
    "sdss_filterlist = 'ugriz'\n",
    "for f in sdss_filterlist:\n",
    "    sdss[f] = phot_utils.Bandpass()\n",
    "    sdss[f].read_throughput(os.path.join(get_data_dir(), 'throughputs', 'sdss', f'sdss_{f}.dat'))\n",
    "    sdss[f].resample_bandpass(wavelen_min=300, wavelen_max=1000)"
   ]
  },
  {
   "cell_type": "code",
   "execution_count": null,
   "id": "f662085d",
   "metadata": {},
   "outputs": [],
   "source": [
    "# And now we can calculate colors again - \n",
    "refband_name = 'r'\n",
    "refband = lsst[refband_name]\n",
    "\n",
    "# Calculate the reference bandpass magnitudes\n",
    "refmags = {}\n",
    "for k in smass:\n",
    "    refmags[k] = smass[k].calc_mag(refband)\n",
    "\n",
    "# Calculate the colors\n",
    "colors = {}\n",
    "for k in smass:\n",
    "    colors[k] = {}\n",
    "    for f in 'ugriz':\n",
    "        # Don't include y because the SEDs are not good at these wavelengths.\n",
    "        colors[k][f'lsst_{f}'] = smass[k].calc_mag(lsst[f]) - refmags[k]\n",
    "        \n",
    "        \n",
    "# Let's calculate colors for SDSS -- but let's update refband so we're using sdss r \n",
    "refband = sdss[refband_name]\n",
    "\n",
    "# Calculate the reference bandpass magnitudes\n",
    "refmags = {}\n",
    "for k in smass:\n",
    "    refmags[k] = smass[k].calc_mag(refband)\n",
    "\n",
    "# Calculate the colors\n",
    "for k in smass:\n",
    "    for f in sdss_filterlist:\n",
    "        colors[k][f'sdss_{f}'] = smass[k].calc_mag(sdss[f]) - refmags[k]\n",
    "\n",
    "df = pd.DataFrame(colors)\n",
    "df"
   ]
  },
  {
   "cell_type": "code",
   "execution_count": null,
   "id": "21258588",
   "metadata": {},
   "outputs": [],
   "source": [
    "# Plot some color-color combinations\n",
    "c1 = 'lsst_g'  #g-r\n",
    "cc1 = 'sdss_g'\n",
    "c2 = 'lsst_i'  #i-r .. we'll flip so it's r-i\n",
    "cc2 = 'sdss_i'\n",
    "\n",
    "fig = plt.figure(figsize=(8,8)) \n",
    "\n",
    "smass_keys = sorted(list(smass.keys()))\n",
    "for i, k in enumerate(smass_keys):\n",
    "    plt.plot(-colors[k][c2], colors[k][c1], linestyle='', marker='.', color='r', label=k)\n",
    "plt.xlabel(f\"{refband_name} - {c2}\")\n",
    "plt.ylabel(f\"{cc1} - {refband_name}\")\n",
    "#plt.legend(loc=(1.01, 0.0))\n",
    "\n",
    "fig = plt.figure(figsize=(8,8)) \n",
    "for i, k in enumerate(smass_keys):\n",
    "    plt.plot(-colors[k][cc2], colors[k][cc1], linestyle='', marker='.', color='g')\n",
    "plt.xlabel(f\"{refband_name} - {c2}\")\n",
    "plt.ylabel(f\"{cc1} - {refband_name}\")"
   ]
  },
  {
   "cell_type": "code",
   "execution_count": null,
   "id": "a95b33e5",
   "metadata": {},
   "outputs": [],
   "source": [
    "# Plot some color-color combinations\n",
    "c1 = 'lsst_g'  #g-r\n",
    "cc1 = 'sdss_g'\n",
    "c2 = 'lsst_z'  #z-r .. we'll flip so it's r-z\n",
    "cc2 = 'sdss_z'\n",
    "\n",
    "fig = plt.figure(figsize=(8,8)) \n",
    "\n",
    "smass_keys = sorted(list(smass.keys()))\n",
    "for i, k in enumerate(smass_keys):\n",
    "    plt.plot(-colors[k][c2], colors[k][c1], linestyle='', marker='.', color='r', label=k)\n",
    "plt.xlabel(f\"{refband_name} - {c2}\")\n",
    "plt.ylabel(f\"{c1} - {refband_name}\")\n",
    "#plt.legend(loc=(1.01, 0.0))\n",
    "\n",
    "fig = plt.figure(figsize=(8,8)) \n",
    "for i, k in enumerate(smass_keys):\n",
    "    plt.plot(-colors[k][cc2], colors[k][cc1], linestyle='', marker='.', color='g')\n",
    "plt.xlabel(f\"{refband_name} - {cc2}\")\n",
    "plt.ylabel(f\"{cc1} - {refband_name}\")"
   ]
  },
  {
   "cell_type": "code",
   "execution_count": null,
   "id": "7959c73c",
   "metadata": {},
   "outputs": [],
   "source": [
    "plt.figure(figsize=(8,5))\n",
    "for f in 'giz':\n",
    "    plt.hist(df.loc[f'lsst_{f}'], bins=100, alpha=0.3, label=f'{f}-r')\n",
    "plt.legend()\n",
    "plt.title('LSST SMASSII synthetic colors')\n",
    "\n",
    "plt.figure(figsize=(8,5))\n",
    "for f in 'giz':\n",
    "    plt.hist(df.loc[f'sdss_{f}'], bins=100, alpha=0.3, label=f'{f}-r')\n",
    "plt.legend()\n",
    "plt.title('SDSS SMASSII synthetic colors')"
   ]
  },
  {
   "cell_type": "markdown",
   "id": "4eca03d6",
   "metadata": {},
   "source": [
    "The bimodal distributions in g-r and r-i can be helpful in distinguishing very rough taxonomic classifications. These classifications are correlated with albedo distributions, and can be helpful in constraining size estimates.\n",
    "See Ivezic & Ivezic 2021 https://www.sciencedirect.com/science/article/abs/pii/S0019103520305832 for an example."
   ]
  },
  {
   "cell_type": "code",
   "execution_count": null,
   "id": "9e8ab959",
   "metadata": {},
   "outputs": [],
   "source": [
    "# bonus points - get the taxonomic classifications associated with the SMASS objects \n",
    "# and color-code the points in the color-color plots with this information "
   ]
  },
  {
   "cell_type": "code",
   "execution_count": null,
   "id": "9b38e9af",
   "metadata": {},
   "outputs": [],
   "source": []
  }
 ],
 "metadata": {
  "kernelspec": {
   "display_name": "Python 3 (ipykernel)",
   "language": "python",
   "name": "python3"
  },
  "language_info": {
   "codemirror_mode": {
    "name": "ipython",
    "version": 3
   },
   "file_extension": ".py",
   "mimetype": "text/x-python",
   "name": "python",
   "nbconvert_exporter": "python",
   "pygments_lexer": "ipython3",
   "version": "3.11.4"
  }
 },
 "nbformat": 4,
 "nbformat_minor": 5
}
