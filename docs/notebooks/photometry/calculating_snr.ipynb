{
 "cells": [
  {
   "cell_type": "markdown",
   "metadata": {},
   "source": [
    "# calculating_snr \n",
    "\n",
    "- https://github.com/lsst/rubin_sim_notebooks/tree/main/photometry"
   ]
  },
  {
   "cell_type": "markdown",
   "metadata": {},
   "source": [
    "This ipython notebook demonstrates how to calculate photometric (optimal psf-weighted) SNR for sources observed with LSST. \n",
    "\n",
    "It uses the [rubin_sim.photUtils](https://github.com/lsst/rubin_sim) package, to calculate the SNR for any spectrum. Baseline LSST throughput curves come with the `rubin_sim` package, in `rubin_sim_data`.\n",
    "\n",
    "An overview of the process (starting from the spectrum) is:\n",
    "* Set the desired magnitude (in a standardized throughput curve) for the source - this sets the SED normalization.\n",
    "* Generate throughput curves in all filters, for the airmass desired.\n",
    "* Set the sky SED (for now we just use a dark, zenith sky SED, but can scale the overall sky brightness up or down).\n",
    "* Calculate the SNR. \n"
   ]
  },
  {
   "cell_type": "code",
   "execution_count": null,
   "metadata": {},
   "outputs": [],
   "source": [
    "import os\n",
    "import copy\n",
    "import numpy as np\n",
    "import matplotlib.pyplot as plt\n",
    "import pandas as pd\n",
    "\n",
    "from rubinsimphot.phot_utils import Bandpass\n",
    "from rubinsimphot.phot_utils import Sed\n",
    "#from rubin_sim.phot_utils import SignalToNoise\n",
    "from rubinsimphot.phot_utils import signaltonoise\n",
    "from rubinsimphot.phot_utils import PhotometricParameters\n",
    "from rubinsimphot.phot_utils import calc_neff\n",
    "\n",
    "from rubinsimphot.site_models import SeeingModel\n",
    "from rubinsimphot.data import get_data_dir"
   ]
  },
  {
   "cell_type": "markdown",
   "metadata": {},
   "source": [
    "-----\n",
    "\n",
    "###  Read some useful data ###"
   ]
  },
  {
   "cell_type": "markdown",
   "metadata": {},
   "source": [
    "<b>Read some sample spectra.</b> \n",
    "\n",
    "The repo [photometry_sample](https://github.com/rhiannonlynne/photometry_sample) contains a few SEDs that cover a fairly wide range: elliptical and spiral galaxies, blue to red stars, white dwarfs, sn, and a quasar. We'll read a subset of them into `Sed` objects, and redshift the quasar. \n",
    "\n",
    "Clone the repo, then set `sedDir` to whereever you place the directory."
   ]
  },
  {
   "cell_type": "code",
   "execution_count": null,
   "metadata": {},
   "outputs": [],
   "source": [
    "get_data_dir()"
   ]
  },
  {
   "cell_type": "code",
   "execution_count": null,
   "metadata": {},
   "outputs": [],
   "source": [
    "sedDir = os.path.join(get_data_dir(),'photometry_sample')\n",
    "sedtypes = ['galaxies', 'quasar', 'stars'] \n",
    "sedtypes_not_used = ['sn', 'photoZ_outliers', 'white_dwarf']\n",
    "#sedtypes = sedtypes + sedtypes_not_used\n",
    "\n",
    "seds = {}\n",
    "for s in sedtypes:\n",
    "    filenames = os.listdir(os.path.join(sedDir, s))\n",
    "    for f in filenames:\n",
    "        name = f.replace('.dat', '').replace('.sed', '')\n",
    "        seds[name] = Sed()\n",
    "        seds[name].read_sed_flambda(os.path.join(sedDir, s, f))\n",
    "list(seds.keys())"
   ]
  },
  {
   "cell_type": "code",
   "execution_count": null,
   "metadata": {},
   "outputs": [],
   "source": [
    "# Redshift the quasar. Note repeat calls to this cell will stack, increasing the redshift multiple times.\n",
    "z=1.5\n",
    "seds['quasar'].redshift_sed(z)"
   ]
  },
  {
   "cell_type": "code",
   "execution_count": null,
   "metadata": {},
   "outputs": [],
   "source": [
    "# Plot the seds\n",
    "plt.figure(figsize=(8,5))\n",
    "for n in seds:\n",
    "    plt.plot(seds[n].wavelen, seds[n].flambda * seds[n].wavelen, label=n)\n",
    "plt.legend(loc=(1.01, 0.01))\n",
    "plt.xlim(300, 1100)\n",
    "plt.grid(alpha=0.3)\n",
    "plt.xlabel('Wavelength (nm)')\n",
    "plt.ylabel(\"Wavelength * Flambda\")"
   ]
  },
  {
   "cell_type": "markdown",
   "metadata": {},
   "source": [
    "<b>Read the standard throughput components, a range of atmospheres, and a sky background spectra</b>.\n",
    "\n",
    "These are provided as part of `rubin_sim_data`, in the `throughputs` directory. "
   ]
  },
  {
   "cell_type": "code",
   "execution_count": null,
   "metadata": {},
   "outputs": [],
   "source": [
    "throughputsDir = os.path.join(get_data_dir(), 'throughputs')\n",
    "\n",
    "!ls -l $throughputsDir\n",
    "\n",
    "filterlist = ('u', 'g', 'r', 'i', 'z', 'y')\n",
    "filtercolors = {'u':'c', 'g':'g', 'r':'y', 'i':'r', 'z':'m', 'y':'k'}"
   ]
  },
  {
   "cell_type": "markdown",
   "metadata": {},
   "source": [
    "Read in the set of throughput curves we'll use as our \"standard\". These are the 'standard' LSST total throughput curves and use an X=1.2 atmosphere (with aerosols) together with the standard hardware components (with time-average losses). "
   ]
  },
  {
   "cell_type": "code",
   "execution_count": null,
   "metadata": {},
   "outputs": [],
   "source": [
    "lsst_std = {}\n",
    "for f in filterlist:\n",
    "    lsst_std[f] = Bandpass()\n",
    "    lsst_std[f].read_throughput(os.path.join(throughputsDir, 'baseline', f'total_{f}.dat'))"
   ]
  },
  {
   "cell_type": "code",
   "execution_count": null,
   "metadata": {},
   "outputs": [],
   "source": [
    "# Plot the filters \n",
    "\n",
    "plt.figure(figsize=(8,5))\n",
    "for f in filterlist:\n",
    "    plt.plot(lsst_std[f].wavelen, lsst_std[f].sb, color=filtercolors[f], label=f)\n",
    "plt.legend()\n",
    "plt.ylim(0, 0.5)\n",
    "plt.xlim(300, 1100)\n",
    "plt.grid(alpha=0.4)\n",
    "plt.xlabel(\"Wavelength (nm)\")\n",
    "plt.ylabel(\"Sb (0-1)\")\n",
    "plt.title(\"Standard throughput curves (X=1.2)\")"
   ]
  },
  {
   "cell_type": "markdown",
   "metadata": {},
   "source": [
    "Read in the zenith, dark sky spectrum. This is the only sky background spectrum we have available at this time .. obviously it's not the right colors for other lunar phases, as a function of distance from the moon, or even necessarily at different airmasses. However, as a placeholder, we can scale it up and down to match a specified sky background magnitude in a different bandpass. "
   ]
  },
  {
   "cell_type": "code",
   "execution_count": null,
   "metadata": {},
   "outputs": [],
   "source": [
    "darksky = Sed()\n",
    "darksky.read_sed_flambda(os.path.join(throughputsDir, 'baseline', 'darksky.dat'))"
   ]
  },
  {
   "cell_type": "markdown",
   "metadata": {},
   "source": [
    "Read in the hardware components of the throughput curves. \n",
    "The hardware-only is used to calculate sky brightness values, as atmospheric extinction should not be applied to sky brightness. \n",
    "It's also useful to combine with other atmospheres, to estimate the effect of atmospheric extinction at different airmass. "
   ]
  },
  {
   "cell_type": "code",
   "execution_count": null,
   "metadata": {},
   "outputs": [],
   "source": [
    "lsst_hardware = {}\n",
    "for f in filterlist:\n",
    "    lsst_hardware[f] = Bandpass()\n",
    "    lsst_hardware[f].read_throughput_list(['detector.dat', 'lens1.dat', 'lens2.dat', 'lens3.dat', \n",
    "                                        'm1.dat', 'm2.dat', 'm3.dat', f'filter_{f}.dat'], \n",
    "                                        root_dir=os.path.join(throughputsDir, 'baseline'))"
   ]
  },
  {
   "cell_type": "markdown",
   "metadata": {},
   "source": [
    "Read in a series of atmospheres with different airmasses. This doesn't include varying atmospheric extinction as e.g. water vapor percentage changes, but it does include a range of atmospheric extinction with the same atmospheric composition. "
   ]
  },
  {
   "cell_type": "code",
   "execution_count": null,
   "metadata": {},
   "outputs": [],
   "source": [
    "airmass_range = np.arange(1, 2.55, 0.1)\n",
    "\n",
    "atmosphere = {}\n",
    "for X in airmass_range:\n",
    "    atmosphere[X] = Bandpass()\n",
    "    atmosphere[X].read_throughput(os.path.join(throughputsDir, 'atmos', f'atmos_{int(X*10)}_aerosol.dat'))"
   ]
  },
  {
   "cell_type": "markdown",
   "metadata": {},
   "source": [
    "---\n",
    "\n",
    "### Define useful functions ###\n",
    "\n",
    "Define some functions useful for calculating SNR:\n",
    "* return a spectra scaled to a specified magnitude in a specified filter (in a standard/reference bandpass)\n",
    "* return a sky spectra scaled to a specified magnitude in a specified filter\n",
    "* return the approximate throughput curves at a specified airmass\n",
    "* convert seeing to the expected FWHM_eff at the specified airmass"
   ]
  },
  {
   "cell_type": "code",
   "execution_count": null,
   "metadata": {},
   "outputs": [],
   "source": [
    "def scale_sed(ref_mag, ref_filter, sed):\n",
    "    fluxNorm = sed.calc_flux_norm(ref_mag, lsst_std[ref_filter])\n",
    "    sed.multiply_flux_norm(fluxNorm)\n",
    "    return sed\n",
    "\n",
    "\n",
    "def scale_sky(sky_mag, sky_filter, skysed=None):\n",
    "    if skysed is None:\n",
    "        skysed = copy.deepcopy(darksky)\n",
    "    fluxNorm = skysed.calc_flux_norm(sky_mag, lsst_hardware[sky_filter])\n",
    "    skysed.multiply_flux_norm(fluxNorm)\n",
    "    return skysed\n",
    "\n",
    "\n",
    "def throughput_at_X(airmass):\n",
    "    diff = np.abs(airmass - airmass_range)\n",
    "    idx = np.where(diff == diff.min())[0]\n",
    "    X = airmass_range[idx][0]\n",
    "    lsst_x = {}\n",
    "    for f in filterlist:\n",
    "        wavelen, sb = lsst_hardware[f].multiply_throughputs(atmosphere[X].wavelen, atmosphere[X].sb)\n",
    "        lsst_x[f] = Bandpass(wavelen=wavelen, sb=sb)\n",
    "    return lsst_x\n",
    "\n",
    "\n",
    "seeing_model = SeeingModel()\n",
    "def seeing_at_X(obs_filter, obs_X, atmospheric_seeing_500nm=None, seeing_zenith=None):\n",
    "    \"Return FWHMeff in `obs_filter` at `obs_X`, providing either the seeing @ zenith (in filter) or the FWHM_500\"\n",
    "    if atmospheric_seeing_500nm is not None:\n",
    "        idx = filterlist.index(obs_filter)\n",
    "        fwhm_eff = seeing_model(atmospheric_seeing_500nm, obs_X)['fwhmEff'][idx]\n",
    "    elif seeing_zenith is not None:\n",
    "        # assume seeing_zenith is in the filter of choice and just approximate for airmass \n",
    "        airmass_correction = np.power(obs_X, 0.6)\n",
    "        fwhm_eff = 1.16 * seeing_zenith * airmass_correction\n",
    "    else:\n",
    "        raise ValueErorr('Must specify atmospheric_seeing_500nm or seeing_zenith')\n",
    "    return fwhm_eff\n",
    "\n",
    "\n",
    "def set_photometric_parameters(exptime, nexp, readnoise=None):\n",
    "    # readnoise = None will use the default (8.8 e/pixel). Readnoise should be in electrons/pixel.\n",
    "    photParams = PhotometricParameters(exptime=exptime, nexp=nexp, readnoise=readnoise)\n",
    "    return photParams\n",
    "\n",
    "\n",
    "def calc_snr(sed, obs_filter, obs_skymag, obs_fwhm_eff, obs_X, \n",
    "             ref_filter, ref_mag, \n",
    "             exptime=15, nexp=2, verbose=False):\n",
    "    obs_sky = scale_sky(obs_skymag, obs_filter)\n",
    "    lsst_x = throughput_at_X(obs_X)\n",
    "    scaled_sed = scale_sed(ref_mag, ref_filter, sed)\n",
    "    photParams = set_photometric_parameters(exptime, nexp)\n",
    "    snr = signaltonoise.calc_snr_sed(scaled_sed, lsst_x[obs_filter], \n",
    "                                    obs_sky, lsst_hardware[obs_filter], \n",
    "                                    photParams, fwhm_eff=obs_fwhm_eff, \n",
    "                                    verbose=verbose)\n",
    "    return snr"
   ]
  },
  {
   "cell_type": "markdown",
   "metadata": {},
   "source": [
    "---\n",
    "\n",
    "### Calculate SNR ###\n"
   ]
  },
  {
   "cell_type": "markdown",
   "metadata": {},
   "source": [
    "The SNR of a source depends on the sky background, seeing, and airmass, as well as the sensitivity of the telescope and camera. Calculation of SNR is described in [SMTN-002](https://smtn-002.lsst.io), and the typical sky, seeing, airmass, and throughput sensitivities are described in more detail in [PSTN-054](https://pstn-054.lsst.io). \n",
    "\n",
    "We can put these together with `rubin_sim` to estimate SNR for a given source at a given airmass, seeing, and skybackground. Some helpful functions have been defined above, as well as some helpful or required data. \n",
    "\n",
    "For the sky background, we currently do not have a variety of lunar phase sky background SEDs to use; so we'll approximate it by using our \"zenith dark sky\" SED and just scaling it to have the expected magnitude in the given bandpass. Because we don't have a bandpass-spanning sky SED, the calculations below should be calculated a single bandpass at a time, rescaling the sky SED for each filter/skybrightness value. "
   ]
  },
  {
   "cell_type": "code",
   "execution_count": null,
   "metadata": {},
   "outputs": [],
   "source": [
    "# Specify filter for observing, airmass, and expected skybrightness.\n",
    "# The seeing can be specified as either the atmospheric contribution at zenith at 500nm (\"FWHM_500\")\n",
    "#  or it can be specified as the expected seeing fwhm_eff at zenith, in the specified bandpass.\n",
    "\n",
    "obs_filter = 'i'\n",
    "obs_X = 1.5\n",
    "obs_skybrightness = 19.8 # magnitudes per sq arcsecond \n",
    "fwhm_500 = 0.72\n",
    "\n",
    "obs_fwhmeff = seeing_at_X(obs_filter, obs_X, atmospheric_seeing_500nm=fwhm_500)"
   ]
  },
  {
   "cell_type": "markdown",
   "metadata": {},
   "source": [
    "For this illustration, we'll calculate the SNR for all of our sample SEDs above. You could also just pop in your own SED."
   ]
  },
  {
   "cell_type": "code",
   "execution_count": null,
   "metadata": {},
   "outputs": [],
   "source": [
    "# Specify the brightness expected for the source, in a reference (standard) filter \n",
    "# (this does not have to be the same as obs_filter)\n",
    "ref_mag = 24.0\n",
    "ref_filter = 'r'\n",
    "\n",
    "snr = {}\n",
    "for s in seds:\n",
    "    seds[s] = scale_sed(ref_mag, ref_filter, seds[s])\n",
    "    snr[s] = calc_snr(seds[s], obs_filter, obs_skybrightness, obs_fwhmeff, obs_X, \n",
    "                      ref_filter, ref_mag, \n",
    "                      exptime=15, nexp=2)\n",
    "\n",
    "pd.DataFrame(snr, index=[f'SNR {obs_filter} for sed with {ref_mag} mag in {ref_filter}']).T"
   ]
  },
  {
   "cell_type": "code",
   "execution_count": null,
   "metadata": {},
   "outputs": [],
   "source": [
    "obs_sky = scale_sky(obs_skybrightness, obs_filter)\n",
    "lsst_x = throughput_at_X(obs_X)\n",
    "\n",
    "# A plot for illustration - normalized SED, reference bandpass range, and observing bandpass\n",
    "plt.figure(figsize=(8,5))\n",
    "for s in seds:\n",
    "    plt.plot(seds[s].wavelen, seds[s].flambda*seds[s].wavelen, label=s)\n",
    "ymax = plt.ylim()[1]\n",
    "# show ref filter range with a simple definition of 'in_band'\n",
    "in_band = np.where(lsst_std[ref_filter].sb > 0.01)\n",
    "plt.fill_betweenx(np.arange(0, ymax, ymax/10), \n",
    "                  x1=lsst_std[ref_filter].wavelen[in_band].min(),\n",
    "                  x2=lsst_std[ref_filter].wavelen[in_band].max(),\n",
    "                  alpha=0.1, color='r')\n",
    "# show obs filter \n",
    "plt.plot(lsst_x[obs_filter].wavelen, lsst_x[obs_filter].sb * (ymax),#/lsst_x[obs_filter].sb.max()), \n",
    "         color='k', linewidth=1,)\n",
    "in_band = np.where(lsst_x[obs_filter].sb > 0.01)\n",
    "plt.fill_betweenx(np.arange(0, ymax, ymax/10), \n",
    "                  x1=lsst_x[obs_filter].wavelen[in_band].min(),\n",
    "                  x2=lsst_x[obs_filter].wavelen[in_band].max(),\n",
    "                  alpha=0.1, color='k')\n",
    "# show sky\n",
    "skyscale = calc_neff(obs_fwhmeff, set_photometric_parameters(15, 2).platescale)\n",
    "plt.plot(obs_sky.wavelen, \n",
    "         (obs_sky.flambda * obs_sky.wavelen)/skyscale, \n",
    "         label='Sky', color='gray', linestyle=':')\n",
    "plt.xlabel('Wavelength (nm)')\n",
    "plt.ylabel('$\\lambda F_\\lambda$')\n",
    "plt.xlim(300, 1100)\n",
    "plt.ylim(0, ymax)\n",
    "plt.legend(loc=(1.01, 0.1), fancybox=True)\n",
    "plt.grid(alpha=0.3)"
   ]
  },
  {
   "cell_type": "markdown",
   "metadata": {},
   "source": [
    "----"
   ]
  },
  {
   "cell_type": "code",
   "execution_count": null,
   "metadata": {},
   "outputs": [],
   "source": [
    "# We can investigate the SNR calculation a little closer for a single object, let's use one of the stars.\n",
    "\n",
    "s = 'km10_7250.fits_g45'\n",
    "\n",
    "ref_mag = 23.0\n",
    "ref_filter = 'r'\n",
    "obs_filter = 'i'\n",
    "obs_X = 1.5\n",
    "obs_skybrightness = 20.48 # magnitudes per sq arcsecond \n",
    "fwhm_500 = 0.5\n",
    "\n",
    "obs_fwhmeff = seeing_at_X(obs_filter, obs_X, atmospheric_seeing_500nm=fwhm_500)\n",
    "\n",
    "snr[s] = calc_snr(seds[s], obs_filter, obs_skybrightness, obs_fwhmeff, obs_X, \n",
    "                  ref_filter, ref_mag, exptime=15, nexp=2, verbose=True)\n"
   ]
  },
  {
   "cell_type": "markdown",
   "metadata": {},
   "source": [
    "----"
   ]
  },
  {
   "cell_type": "code",
   "execution_count": null,
   "metadata": {},
   "outputs": [],
   "source": [
    "# Calculate the standard dark sky zenith magnitudes - for reference\n",
    "darksky_mags = {}\n",
    "for f in filterlist:\n",
    "    darksky_mags[f] = darksky.calc_mag(lsst_hardware[f])\n",
    "pd.DataFrame(darksky_mags, index=['Dark sky magnitudes']).round(2)"
   ]
  },
  {
   "cell_type": "code",
   "execution_count": null,
   "metadata": {},
   "outputs": [],
   "source": []
  }
 ],
 "metadata": {
  "kernelspec": {
   "display_name": "conda_py310",
   "language": "python",
   "name": "conda_py310"
  },
  "language_info": {
   "codemirror_mode": {
    "name": "ipython",
    "version": 3
   },
   "file_extension": ".py",
   "mimetype": "text/x-python",
   "name": "python",
   "nbconvert_exporter": "python",
   "pygments_lexer": "ipython3",
   "version": "3.10.12"
  }
 },
 "nbformat": 4,
 "nbformat_minor": 4
}
