{
 "cells": [
  {
   "cell_type": "markdown",
   "id": "240bb06c",
   "metadata": {},
   "source": [
    "# Calculating Magnitudes for a user-provided SED #"
   ]
  },
  {
   "cell_type": "markdown",
   "id": "37393d12",
   "metadata": {},
   "source": [
    "This notebook provides an example of calculating the expected AB magnitude in each filter for a user-provided spectral energy distribution (SED) with Rubin Observatory.\n",
    "\n",
    "Many example SEDs can be found in the `sims_sed_library` (downloadable from NCSA as a [gzipped tar file](https://lsst.ncsa.illinois.edu/sim-data/sed_library/seds_170124.tar.gz)). This file has additional documentation in [confluence](https://confluence.lsstcorp.org/display/SIM/SED+%28Spectral+Energy+Density%29+models+in+the+Catalogs+Simulation+Framework), but includes Kurucz model spectra for main sequence stars, MLT spectra, white dwarf spectra, a range of asteroid spectral types, and various galaxy spectral templates.\n",
    "\n",
    "This example will use a Kurucz model appropriate for our Sun (`kurucz_sun`) which has been copied into the photometry directory of the [rubin_sim_notebooks](https://github.com/lsst/rubin_sim_notebooks) repository.\n",
    "\n",
    "The expected format of this file (or any other spectra you want to use) is two columns, the first containing wavelength in nanometers and the second containing either F$_\\lambda$ (in ergs/cm$^2$/s/nm) or F$_\\nu$ (in Janksy). Our example `kurucz_sun` contains wavelength(nm) / F$_\\lambda$(ergs/cm$^2$/s/nm).\n"
   ]
  },
  {
   "cell_type": "code",
   "execution_count": null,
   "id": "ec62290b",
   "metadata": {},
   "outputs": [],
   "source": [
    "# Import some generally useful packages\n",
    "\n",
    "import os\n",
    "import numpy as np\n",
    "import matplotlib.pyplot as plt\n",
    "%matplotlib inline\n",
    "import pandas as pd"
   ]
  },
  {
   "cell_type": "code",
   "execution_count": null,
   "id": "0c2c3088",
   "metadata": {},
   "outputs": [],
   "source": [
    "# Import the primary photometry classes from rubin_sim.photUtils\n",
    "\n",
    "from rubin_sim.phot_utils import Bandpass, Sed"
   ]
  },
  {
   "cell_type": "markdown",
   "id": "59ade278",
   "metadata": {},
   "source": [
    "## Read the throughput curves ##\n",
    "\n",
    "The throughput curves are currently downloaded as part of the `rs_download_data` script, and stored in `$RUBIN_SIM_DATA_DIR`. The default value for `$RUBIN_SIM_DATA_DIR` is `$HOME/rubin_sim_data`. "
   ]
  },
  {
   "cell_type": "code",
   "execution_count": null,
   "id": "960d5248",
   "metadata": {},
   "outputs": [],
   "source": [
    "# Find the throughputs directory \n",
    "fdir = os.getenv('RUBIN_SIM_DATA_DIR')\n",
    "if fdir is None:  #environment variable not set\n",
    "    fdir = os.path.join(os.getenv('HOME'), 'rubin_sim_data')\n",
    "\n",
    "fdir = os.path.join(fdir, 'throughputs', 'baseline')\n",
    "\n",
    "!ls $fdir"
   ]
  },
  {
   "cell_type": "code",
   "execution_count": null,
   "id": "e9e5359a",
   "metadata": {},
   "outputs": [],
   "source": [
    "# Read the throughput curves\n",
    "filterlist = ['u', 'g', 'r', 'i', 'z', 'y']\n",
    "\n",
    "lsst = {}\n",
    "for f in filterlist:\n",
    "    lsst[f] = Bandpass()\n",
    "    lsst[f].read_throughput(os.path.join(fdir, f'total_{f}.dat'))"
   ]
  },
  {
   "cell_type": "code",
   "execution_count": null,
   "id": "2aa84e16",
   "metadata": {},
   "outputs": [],
   "source": [
    "# Plot the curves .. see what we have. \n",
    "filtercolors = {'u':'b', 'g':'c', 'r':'g', 'i':'orange', 'z':'r', 'y':'m'}\n",
    "\n",
    "plt.figure(figsize=(8,6))\n",
    "for f in filterlist:\n",
    "    plt.plot(lsst[f].wavelen, lsst[f].sb, color=filtercolors[f], label=f)\n",
    "plt.xlabel(\"Wavelength (nm)\", fontsize='x-large')\n",
    "plt.ylabel(\"Throughput (0-1)\", fontsize='x-large')\n",
    "plt.ylim(0, 1)\n",
    "plt.grid(True, alpha=0.3, color='gray')\n",
    "plt.legend(loc='upper right', fancybox=True, fontsize='large')"
   ]
  },
  {
   "cell_type": "markdown",
   "id": "2e300b65",
   "metadata": {},
   "source": [
    "## Read the SED ##\n",
    "\n",
    "We must also read the `kurucz_sun` spectrum into a Sed object. Because `kurucz_sun` contains $\\lambda$ / F$_\\lambda$, we use the Sed method `readSED_flambda`. If it had been a file containing $\\lambda$ / F$_\\nu$, we would use the `readSED_fnu` method instead."
   ]
  },
  {
   "cell_type": "code",
   "execution_count": null,
   "id": "cffa7615",
   "metadata": {},
   "outputs": [],
   "source": [
    "# Read the SED\n",
    "\n",
    "sun = Sed()\n",
    "sun.read_sed_flambda('kurucz_sun')"
   ]
  },
  {
   "cell_type": "code",
   "execution_count": null,
   "id": "ed05ba1a",
   "metadata": {},
   "outputs": [],
   "source": [
    "# Let's see what the SED and throughputs look like together\n",
    "fig = plt.figure(figsize=(8,6))\n",
    "ax1 = plt.subplot(1,1,1)\n",
    "ax2 = ax1.twinx()\n",
    "for f in filterlist:\n",
    "    ax2.plot(lsst[f].wavelen, lsst[f].sb, color=filtercolors[f])\n",
    "ax1.plot(sun.wavelen, sun.wavelen*sun.flambda, color='k')\n",
    "plt.xlim(300, 1100)\n",
    "ax1.set_xlabel('Wavelength (nm)')\n",
    "ax2.set_ylabel('Transmission (0-1)')\n",
    "ax2.set_ylim(0, 1)\n",
    "ax1.set_ylabel('$\\lambda F_\\lambda$ (ergs/cm$^2$/s)')"
   ]
  },
  {
   "cell_type": "markdown",
   "id": "a882aa5b",
   "metadata": {},
   "source": [
    "## Calculate the magnitudes ##"
   ]
  },
  {
   "cell_type": "markdown",
   "id": "ee67d9f6",
   "metadata": {},
   "source": [
    "Calculating the AB magnitudes. This is simple, using the 'calcMag' method on Sed.\n",
    "\n",
    "These are the magnitudes 'above the atmosphere' and *as would be reported by Rubin*. Note that these magnitudes *do* include some of the absorption effects of the atmosphere; e.g. the shape of the throughput curves includes the effects of a standard atmosphere. However, the grey-scale extinction due to the atmosphere (or clouds) is not included; this is what is generally meant by 'above the atmosphere' AB magnitudes."
   ]
  },
  {
   "cell_type": "code",
   "execution_count": null,
   "id": "fdf84ce4",
   "metadata": {},
   "outputs": [],
   "source": [
    "# Calculate expected AB magnitudes. \n",
    "\n",
    "mags = {}\n",
    "for f in filterlist:\n",
    "    mags[f] = sun.calc_mag(lsst[f])\n",
    "\n",
    "# Make a dataframe just to get a nice output cell.\n",
    "pd.DataFrame(mags, index=['Sun']).T"
   ]
  },
  {
   "cell_type": "markdown",
   "id": "94daefee",
   "metadata": {},
   "source": [
    "The sun is pretty bright. \n",
    "\n",
    "However, let's suppose we had a star which had a spectrum like the Sun, but was further away. Say we know that it should have an AB magnitude of r=20. \n",
    "\n",
    "We can scale the above SED to have the appropriate magnitude in r band, and then calculate the resulting AB magnitudes in the other bandpasses, using the 'calcFluxNorm' and 'multiplyFluxNorm' methods on Sed."
   ]
  },
  {
   "cell_type": "code",
   "execution_count": null,
   "id": "5b7386a7",
   "metadata": {},
   "outputs": [],
   "source": [
    "# Scale spectrum and recalculate magnitudes.\n",
    "\n",
    "r = 20.0\n",
    "\n",
    "flux_norm = sun.calc_flux_norm(r, lsst['r'])\n",
    "\n",
    "sun.multiply_flux_norm(flux_norm)\n",
    "\n",
    "mags = {}\n",
    "for f in filterlist:\n",
    "    mags[f] = sun.calc_mag(lsst[f])\n",
    "    \n",
    "pd.DataFrame(mags, index=['Distant Sun']).T"
   ]
  },
  {
   "cell_type": "markdown",
   "id": "20b96dbd",
   "metadata": {},
   "source": [
    "There are other methods on Sed which can be useful - for example, adding dust extinction or redshifting an object. More information is available on these methods in the [class documentation](https://github.com/lsst/rubin_sim/blob/master/rubin_sim/photUtils/Sed.py)."
   ]
  },
  {
   "cell_type": "markdown",
   "id": "f152f886",
   "metadata": {},
   "source": [
    "### Non-standard uses ###\n",
    "\n",
    "The examples in this section may come up in some more advanced uses. "
   ]
  },
  {
   "cell_type": "markdown",
   "id": "25da30df",
   "metadata": {},
   "source": [
    "#### Calculating magnitudes in multiple bandpasses more quickly #### \n",
    "\n",
    "In some applications, calculating magnitudes in all bandpasses with as much speed as possible is important. In the standard usage (demonstrated above), the calculation makes copies of some of the arrays in order to avoid permanently modifying the originals. There are several checks that are done as well, to make sure that the wavelength ranges are as intended. Here are some varying approaches."
   ]
  },
  {
   "cell_type": "code",
   "execution_count": null,
   "id": "03ae1387",
   "metadata": {},
   "outputs": [],
   "source": [
    "sun = Sed()\n",
    "sun.read_sed_flambda('kurucz_sun')\n",
    "\n",
    "filterlist = ['u', 'g', 'r', 'i', 'z', 'y']\n",
    "\n",
    "lsst = {}\n",
    "for f in filterlist:\n",
    "    lsst[f] = Bandpass()\n",
    "    lsst[f].read_throughput(os.path.join(fdir, f'total_{f}.dat'))"
   ]
  },
  {
   "cell_type": "code",
   "execution_count": null,
   "id": "d2a68d5f",
   "metadata": {},
   "outputs": [],
   "source": [
    "%%timeit \n",
    "\n",
    "# Standard calculation\n",
    "mags = []\n",
    "for f in filterlist:\n",
    "    mags.append(sun.calc_mag(lsst[f]))"
   ]
  },
  {
   "cell_type": "code",
   "execution_count": null,
   "id": "f123b155",
   "metadata": {},
   "outputs": [],
   "source": [
    "%%timeit \n",
    "\n",
    "# Slightly modified calculation\n",
    "# Resample sun onto the same wavelength grid as the filtercurves once \n",
    "sun.resample_sed(wavelen_match = lsst['r'].wavelen)\n",
    "sun.flambda_tofnu()\n",
    "mags = []\n",
    "for f in filterlist:\n",
    "    mags.append(sun.calc_mag(lsst[f]))"
   ]
  },
  {
   "cell_type": "code",
   "execution_count": null,
   "id": "ada150f1",
   "metadata": {},
   "outputs": [],
   "source": [
    "# Generate the phiArray for calculating the multi-band magnitudes - the fast option below\n",
    "phiArray, wavelenstep = sun.setup_phi_array([lsst[f] for f in filterlist])"
   ]
  },
  {
   "cell_type": "code",
   "execution_count": null,
   "id": "388e958d",
   "metadata": {},
   "outputs": [],
   "source": [
    "%%timeit\n",
    "\n",
    "# More modified version\n",
    "\n",
    "# Resample the sun onto the desired wavelength (permanently)\n",
    "sun.resample_sed(wavelen_match = lsst['r'].wavelen)\n",
    "# Calculate Fnu as well as Flambda\n",
    "sun.flambda_tofnu()\n",
    "\n",
    "allmags = sun.many_mag_calc(phiArray, wavelenstep)"
   ]
  },
  {
   "cell_type": "markdown",
   "id": "327d33b1",
   "metadata": {},
   "source": [
    "#### Wavelength ranges non-overlapping #### \n",
    "\n",
    "Sometimes you will get an error message saying the wavelength ranges do not overlap (for the SED and the filter curves), which will result in NaNs in the resulting magnitudes. \n",
    "\n",
    "The problem here is that by default, we read in the bandpasses with a standard wavelength range and grid, same as they are stored on disk. This lets those 'faster' magnitude calculations above work with a single resampling of the SED. On the other hand, if you only are interested in z band and have a SED which cuts off at 400 nm, this message may not make that much sense. "
   ]
  },
  {
   "cell_type": "code",
   "execution_count": null,
   "id": "d7aab8c3",
   "metadata": {},
   "outputs": [],
   "source": [
    "sun = Sed()\n",
    "sun.read_sed_flambda('kurucz_sun')\n",
    "\n",
    "filterlist = ['u', 'g', 'r', 'i', 'z', 'y']\n",
    "\n",
    "lsst = {}\n",
    "for f in filterlist:\n",
    "    lsst[f] = Bandpass()\n",
    "    lsst[f].read_throughput(os.path.join(fdir, f'total_{f}.dat'))\n",
    "    \n",
    "sun.resample_sed(wavelen_match = lsst['z'].wavelen)\n",
    "    \n",
    "sun.wavelen[0], sun.wavelen[100], sun.wavelen.max(), lsst['r'].wavelen.min(), lsst['r'].wavelen.max()"
   ]
  },
  {
   "cell_type": "code",
   "execution_count": null,
   "id": "e07fc00e",
   "metadata": {},
   "outputs": [],
   "source": [
    "# Example: \n",
    "short_sun = Sed(wavelen=sun.wavelen[100:], flambda=sun.flambda[100:])\n",
    "\n",
    "print('Original sun, z band', sun.calc_mag(lsst['z']).round(2))\n",
    "print('short sun, z band', short_sun.calc_mag(lsst['z']))"
   ]
  },
  {
   "cell_type": "markdown",
   "id": "020a480c",
   "metadata": {},
   "source": [
    "Solutions to this problem include: the user explicitly setting the flambda values to 0 (or some other desired value) outside the original wavelength range, and then calculating the magnitude, or explicitly defining the wavelength range for the filter to only cover the range of wavelengths represented in the SED. Obviously in either case, you should be sure that you are not missing flux that should have been included. "
   ]
  },
  {
   "cell_type": "code",
   "execution_count": null,
   "id": "c6219a31",
   "metadata": {},
   "outputs": [],
   "source": [
    "# Fill in values: \n",
    "short_sun = Sed(wavelen=sun.wavelen[100:], flambda=sun.flambda[100:])\n",
    "\n",
    "# Extend at short wavelengths \n",
    "ext = np.where(lsst['z'].wavelen < short_sun.wavelen.min())\n",
    "wavelen_extend = lsst['z'].wavelen[ext]\n",
    "flambda_extend = np.zeros(len(wavelen_extend), float)\n",
    "\n",
    "short_sun.wavelen = np.concatenate([wavelen_extend, short_sun.wavelen])\n",
    "short_sun.flambda = np.concatenate([flambda_extend, short_sun.flambda])\n",
    "\n",
    "# Extend at long wavelengths \n",
    "ext = np.where(lsst['z'].wavelen > short_sun.wavelen.max())\n",
    "wavelen_extend = lsst['z'].wavelen[ext]\n",
    "flambda_extend = np.zeros(len(wavelen_extend), float)\n",
    "\n",
    "short_sun.wavelen = np.concatenate([short_sun.wavelen, wavelen_extend])\n",
    "short_sun.flambda = np.concatenate([short_sun.flambda, flambda_extend])\n",
    "\n",
    "print('Original sun, z band', sun.calc_mag(lsst['z']).round(2))\n",
    "print('short sun, z band', short_sun.calc_mag(lsst['z']).round(2))"
   ]
  },
  {
   "cell_type": "code",
   "execution_count": null,
   "id": "278fda4c",
   "metadata": {},
   "outputs": [],
   "source": [
    "# Cut wavelength range for filter curve\n",
    "short_sun = Sed(wavelen=sun.wavelen[100:], flambda=sun.flambda[100:])\n",
    "\n",
    "z_short = Bandpass()\n",
    "z_short.read_throughput(os.path.join(fdir, f'total_{f}.dat'))\n",
    "z_short.resample_bandpass(wavelen_min=short_sun.wavelen.min(), wavelen_max=short_sun.wavelen.max(),\n",
    "                         wavelen_step=short_sun.wavelen[1]-short_sun.wavelen[0])\n",
    "\n",
    "print('Original z band', sun.calc_mag(lsst['z']).round(2))\n",
    "print('short z band', short_sun.calc_mag(z_short).round(2))"
   ]
  },
  {
   "cell_type": "code",
   "execution_count": null,
   "id": "4255328a",
   "metadata": {},
   "outputs": [],
   "source": []
  },
  {
   "cell_type": "code",
   "execution_count": null,
   "id": "ebcdf0d5",
   "metadata": {},
   "outputs": [],
   "source": []
  }
 ],
 "metadata": {
  "kernelspec": {
   "display_name": "rubin-sim",
   "language": "python",
   "name": "rubin-sim"
  },
  "language_info": {
   "codemirror_mode": {
    "name": "ipython",
    "version": 3
   },
   "file_extension": ".py",
   "mimetype": "text/x-python",
   "name": "python",
   "nbconvert_exporter": "python",
   "pygments_lexer": "ipython3",
   "version": "3.9.18"
  }
 },
 "nbformat": 4,
 "nbformat_minor": 5
}
