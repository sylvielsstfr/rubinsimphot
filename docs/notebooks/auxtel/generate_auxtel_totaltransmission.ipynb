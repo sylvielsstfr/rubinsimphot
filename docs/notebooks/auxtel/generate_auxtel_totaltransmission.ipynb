{
 "cells": [
  {
   "cell_type": "markdown",
   "id": "240bb06c",
   "metadata": {},
   "source": [
    "#  Generate instrumental transmission curves for Auxtel, ie total throughput \n",
    "\n",
    "- author : Sylvie Dagoret-Campagne\n",
    "- affiliation : IJCLab/IN2P3/CNRS\n",
    "- creatiion date : 2024-01-02\n",
    "- update : 2024-04-06\n",
    "- last update : 2024-08-30\n",
    "\n",
    "Generate instrumental transmission curves for Auxtel photometry\n",
    "\n",
    "\n",
    "**Deprecated**"
   ]
  },
  {
   "cell_type": "code",
   "execution_count": null,
   "id": "ec62290b",
   "metadata": {},
   "outputs": [],
   "source": [
    "# Import some generally useful packages\n",
    "\n",
    "import os\n",
    "import numpy as np\n",
    "import matplotlib.pyplot as plt\n",
    "%matplotlib inline\n",
    "import pandas as pd\n",
    "from scipy.interpolate import interp1d"
   ]
  },
  {
   "cell_type": "code",
   "execution_count": null,
   "id": "0c2c3088",
   "metadata": {},
   "outputs": [],
   "source": [
    "# Import the primary photometry classes from rubin_sim.photUtils\n",
    "from rubinsimphot.phot_utils import Bandpass, Sed\n",
    "from rubinsimphot.data.data_sets import  get_data_dir"
   ]
  },
  {
   "cell_type": "markdown",
   "id": "59ade278",
   "metadata": {},
   "source": [
    "## Read the throughput curves ##\n",
    "\n",
    "The throughput curves are currently downloaded as part of the `rs_download_data` script, and stored in `$RUBIN_SIM_DATA_DIR`. The default value for `$RUBIN_SIM_DATA_DIR` is `$HOME/rubin_sim_data`. "
   ]
  },
  {
   "cell_type": "code",
   "execution_count": null,
   "id": "a3374985-ae07-449b-bba0-1d7485b77510",
   "metadata": {
    "tags": []
   },
   "outputs": [],
   "source": [
    "fdir = get_data_dir()\n",
    "print(fdir)"
   ]
  },
  {
   "cell_type": "code",
   "execution_count": null,
   "id": "960d5248",
   "metadata": {},
   "outputs": [],
   "source": [
    "# Find the throughputs directory \n",
    "#fdir = os.getenv('RUBIN_SIM_DATA_DIR')\n",
    "fdir = get_data_dir()\n",
    "if fdir is None:  #environment variable not set\n",
    "    fdir = os.path.join(os.getenv('HOME'), 'rubin_sim_data')\n",
    "\n",
    "\n",
    "fdir = os.path.join(fdir, 'throughputs', 'auxtel')\n",
    "ldir = \"./\""
   ]
  },
  {
   "cell_type": "code",
   "execution_count": null,
   "id": "ad48a37e-a635-41f4-9461-9a4c5ff2b813",
   "metadata": {},
   "outputs": [],
   "source": [
    "telescope_throughput = \"multispectra_holo4_003_HD142331_20230802_AuxTel_doGainsPTC_v3.0.3_throughput.txt\""
   ]
  },
  {
   "cell_type": "code",
   "execution_count": null,
   "id": "781ad5c0-3121-4c3a-8b6c-07aafd5a86ba",
   "metadata": {},
   "outputs": [],
   "source": [
    "tel_auxtel =  Bandpass()\n",
    "tel_auxtel.read_throughput(os.path.join(fdir, telescope_throughput ))"
   ]
  },
  {
   "cell_type": "code",
   "execution_count": null,
   "id": "e9e5359a",
   "metadata": {},
   "outputs": [],
   "source": [
    "# Read the throughput curves\n",
    "#filterlist = ['u', 'g', 'r', 'i','z']\n",
    "filterlist = ['up', 'gp', 'rp', 'ip','zp','yp']\n",
    "\n",
    "sdss_p = {}\n",
    "for f in filterlist:\n",
    "    sdss_p[f] = Bandpass()\n",
    "    sdss_p[f].read_throughput(os.path.join(fdir, f'auxtel_sdss_{f}.dat'))"
   ]
  },
  {
   "cell_type": "code",
   "execution_count": null,
   "id": "2aa84e16",
   "metadata": {},
   "outputs": [],
   "source": [
    "# Plot the curves .. see what we have. \n",
    "filtercolors = {'up':'b', 'gp':'g', 'rp':'r', 'ip':'orange', 'zp':'grey', 'yp':'k'}\n",
    "\n",
    "\n",
    "fig,ax = plt.subplots(1,1,figsize=(10,6))\n",
    "for f in filterlist:\n",
    "    if f in [\"up\",\"ip\"]:\n",
    "        ax.plot(sdss_p[f].wavelen, sdss_p[f].sb, color=filtercolors[f],ls=\":\" ,label=f)\n",
    "    else:\n",
    "        ax.plot(sdss_p[f].wavelen, sdss_p[f].sb, color=filtercolors[f], label=f)\n",
    "    \n",
    "ax.plot(tel_auxtel.wavelen, tel_auxtel.sb, color=\"grey\", lw=2,label=\"auxtel\\n through.\")\n",
    "\n",
    "ax.set_xlabel(\"Wavelength (nm)\", fontsize='x-large')\n",
    "ax.set_ylabel(\"Throughput (0-1)\", fontsize='x-large')\n",
    "#ax.set_ylim(0, 1)\n",
    "ax.grid(True, alpha=0.3, color='gray')\n",
    "ax.legend(loc='upper right', fancybox=True, fontsize='large')\n",
    "ax.set_xlim(300.,1160.)\n",
    "ax.set_xlabel(\"$\\lambda  (\\\\AA)$\")\n",
    "ax.set_title(\"SDSS filters used for Auxtel Photometry (2023-2024)\")"
   ]
  },
  {
   "cell_type": "code",
   "execution_count": null,
   "id": "41665aab-a4cd-4319-be6e-cf907e57f31a",
   "metadata": {},
   "outputs": [],
   "source": [
    "tr_u = np.interp(sdss_p[\"up\"].wavelen, tel_auxtel.wavelen, tel_auxtel.sb)\n",
    "tr_g = np.interp(sdss_p[\"gp\"].wavelen, tel_auxtel.wavelen, tel_auxtel.sb)\n",
    "tr_r = np.interp(sdss_p[\"rp\"].wavelen, tel_auxtel.wavelen, tel_auxtel.sb)\n",
    "tr_i = np.interp(sdss_p[\"ip\"].wavelen, tel_auxtel.wavelen, tel_auxtel.sb)\n",
    "tr_z = np.interp(sdss_p[\"zp\"].wavelen, tel_auxtel.wavelen, tel_auxtel.sb)\n",
    "tr_y = np.interp(sdss_p[\"yp\"].wavelen, tel_auxtel.wavelen, tel_auxtel.sb)"
   ]
  },
  {
   "cell_type": "code",
   "execution_count": null,
   "id": "997e910b-b9df-42de-9f13-c384dc2a4f98",
   "metadata": {},
   "outputs": [],
   "source": []
  },
  {
   "cell_type": "code",
   "execution_count": null,
   "id": "6fa40907-036a-4bf0-95c9-82ada3e9ba35",
   "metadata": {
    "tags": []
   },
   "outputs": [],
   "source": [
    "auxtel = {}\n",
    "auxtel[\"up\"] = Bandpass(wavelen=sdss_p[\"up\"].wavelen,sb=tr_u * sdss_p[\"up\"].sb)\n",
    "auxtel[\"gp\"] = Bandpass(wavelen=sdss_p[\"gp\"].wavelen,sb=tr_g * sdss_p[\"gp\"].sb)\n",
    "auxtel[\"rp\"] = Bandpass(wavelen=sdss_p[\"rp\"].wavelen,sb=tr_r * sdss_p[\"rp\"].sb)  \n",
    "auxtel[\"ip\"] = Bandpass(wavelen=sdss_p[\"ip\"].wavelen,sb=tr_i * sdss_p[\"ip\"].sb)  \n",
    "auxtel[\"zp\"] = Bandpass(wavelen=sdss_p[\"zp\"].wavelen,sb=tr_z * sdss_p[\"zp\"].sb) \n",
    "auxtel[\"yp\"] = Bandpass(wavelen=sdss_p[\"yp\"].wavelen,sb=tr_z * sdss_p[\"yp\"].sb) "
   ]
  },
  {
   "cell_type": "code",
   "execution_count": null,
   "id": "60d62c52-0e45-4a9f-8930-a2a47d8f6a61",
   "metadata": {
    "tags": []
   },
   "outputs": [],
   "source": []
  },
  {
   "cell_type": "code",
   "execution_count": null,
   "id": "dcc3ea8d-2910-48de-8db6-4fa5e1666caa",
   "metadata": {
    "tags": []
   },
   "outputs": [],
   "source": [
    "plt.figure(figsize=(8,6))\n",
    "for f in filterlist:\n",
    "    plt.scatter(auxtel[f].wavelen, auxtel[f].sb, color=filtercolors[f],marker='.' ,label=f)\n",
    "    \n",
    "plt.xlabel(\"Wavelength (nm)\", fontsize='x-large')\n",
    "plt.ylabel(\"Throughput (0-1)\", fontsize='x-large')\n",
    "plt.ylim(0, 1)\n",
    "plt.grid(True, alpha=0.3, color='gray')\n",
    "plt.legend(loc='upper right', fancybox=True, fontsize='large')\n",
    "plt.title(\"Auxtel Photometry\")"
   ]
  },
  {
   "cell_type": "markdown",
   "id": "819b1bc4-735f-4a50-b368-fb63d043f92e",
   "metadata": {},
   "source": [
    "## Find boundaries and borders of filters"
   ]
  },
  {
   "cell_type": "code",
   "execution_count": null,
   "id": "266dc6d0-ad13-42e8-bed4-dbbfea5ef5b7",
   "metadata": {
    "tags": []
   },
   "outputs": [],
   "source": [
    "plt.figure(figsize=(8,6))\n",
    "for f in filterlist:\n",
    "    plt.hist(np.diff(auxtel[f].wavelen),bins=50, facecolor=filtercolors[f], label=f)\n",
    "\n",
    "plt.xlabel(\"Wavelength bin size (nm)\", fontsize='x-large')\n",
    "plt.ylabel(\"number of bins\", fontsize='x-large')"
   ]
  },
  {
   "cell_type": "code",
   "execution_count": null,
   "id": "d67461e9-5ff8-4cf8-b0f9-a1f2ea45a70c",
   "metadata": {
    "tags": []
   },
   "outputs": [],
   "source": [
    "FILTERS = np.zeros((len(filterlist),4))\n",
    "\n",
    "transm_thr = 0.01\n",
    "for idx,f in enumerate(filterlist):\n",
    "    indexes = np.where(auxtel[f].sb>transm_thr)[0]\n",
    "    wls = auxtel[f].wavelen[indexes]\n",
    "    WLMIN = wls.min()\n",
    "    WLMAX = wls.max()\n",
    "    WLMEAN = wls.mean()\n",
    "    WLWIDTH = WLMAX - WLMIN\n",
    "    FILTERS[idx,0] = WLMIN\n",
    "    FILTERS[idx,1] = WLMAX\n",
    "    FILTERS[idx,2] = WLMEAN\n",
    "    FILTERS[idx,3] = WLWIDTH\n",
    "    print(f,wls.min(),wls.max(),np.mean(np.diff(wls)))"
   ]
  },
  {
   "cell_type": "code",
   "execution_count": null,
   "id": "334ce6a9-e839-4c7f-bdd5-d31c53ec0e70",
   "metadata": {
    "tags": []
   },
   "outputs": [],
   "source": [
    "FILTERS"
   ]
  },
  {
   "cell_type": "code",
   "execution_count": null,
   "id": "4c9f6900-1101-451d-96ad-7d3f8c9a33f3",
   "metadata": {
    "tags": []
   },
   "outputs": [],
   "source": [
    "plt.figure(figsize=(8,6))\n",
    "for idx,f in enumerate(filterlist):\n",
    "    plt.scatter(auxtel[f].wavelen, auxtel[f].sb, color=filtercolors[f],marker='.' ,label=f)\n",
    "    plt.axvline(FILTERS[idx,0],color=filtercolors[f],linestyle=\":\")\n",
    "    plt.axvline(FILTERS[idx,1],color=filtercolors[f],linestyle=\":\")\n",
    "    plt.axvline(FILTERS[idx,2],color=filtercolors[f],linestyle=\"-.\")\n",
    "plt.xlabel(\"Wavelength (nm)\", fontsize='x-large')\n",
    "plt.ylabel(\"Throughput (0-1)\", fontsize='x-large')\n",
    "plt.ylim(0, 1)\n",
    "plt.grid(True, alpha=0.3, color='gray')\n",
    "plt.legend(loc='upper right', fancybox=True, fontsize='large')\n",
    "plt.title(\"Auxtel Photometry\")"
   ]
  },
  {
   "cell_type": "markdown",
   "id": "1df5abeb-da2c-4d47-981a-9aecd89c138b",
   "metadata": {
    "tags": []
   },
   "source": [
    "# Need to resample\n",
    "\n",
    "- rubinsim assure really regular grid for wavelengths otherwise it generate an error in sed.py\n",
    "- thus the transmission curve is resampled using a wavelength grid of 0.1 nm"
   ]
  },
  {
   "cell_type": "code",
   "execution_count": null,
   "id": "c8e13c4f-acd5-4a5f-a2de-86ed0711f70b",
   "metadata": {
    "tags": []
   },
   "outputs": [],
   "source": [
    "STEP_WL = 0.1"
   ]
  },
  {
   "cell_type": "code",
   "execution_count": null,
   "id": "3ef1fdb4-5925-4347-bc6e-9fc318178867",
   "metadata": {
    "tags": []
   },
   "outputs": [],
   "source": [
    "auxtel_sdss = {}\n",
    "for idx,f in enumerate(filterlist):\n",
    "    WL = np.arange(FILTERS[idx,0],FILTERS[idx,1],STEP_WL)\n",
    "    tr = np.interp(WL, auxtel[f].wavelen, auxtel[f].sb)\n",
    "    auxtel_sdss[f] =  Bandpass(wavelen=WL,sb=tr)"
   ]
  },
  {
   "cell_type": "code",
   "execution_count": null,
   "id": "38e9473a-541f-4c0b-ae78-4dd48e3d38b2",
   "metadata": {
    "tags": []
   },
   "outputs": [],
   "source": [
    "plt.figure(figsize=(8,6))\n",
    "for idx,f in enumerate(filterlist):\n",
    "    plt.scatter(auxtel_sdss[f].wavelen, auxtel_sdss[f].sb, color=filtercolors[f],marker='.' ,label=f)\n",
    "    plt.axvline(FILTERS[idx,0],color=filtercolors[f],linestyle=\":\")\n",
    "    plt.axvline(FILTERS[idx,1],color=filtercolors[f],linestyle=\":\")\n",
    "    plt.axvline(FILTERS[idx,2],color=filtercolors[f],linestyle=\"-.\")\n",
    "plt.xlabel(\"Wavelength (nm)\", fontsize='x-large')\n",
    "plt.ylabel(\"Throughput (0-1)\", fontsize='x-large')\n",
    "plt.ylim(0, 1)\n",
    "plt.grid(True, alpha=0.3, color='gray')\n",
    "plt.legend(loc='upper right', fancybox=True, fontsize='large')\n",
    "plt.title(\"Auxtel Photometry resampled\")"
   ]
  },
  {
   "cell_type": "markdown",
   "id": "86720660-866f-4cf3-8d1d-9c9d44d009fe",
   "metadata": {},
   "source": [
    "### Need to extend to zero before and after\n"
   ]
  },
  {
   "cell_type": "code",
   "execution_count": null,
   "id": "add9796f-86e5-4fac-b8d4-f29b9dd827ee",
   "metadata": {},
   "outputs": [],
   "source": [
    "WLMIN = 300.\n",
    "WLMAX = 1200.\n",
    "WL = np.arange(WLMIN,WLMAX,STEP_WL) "
   ]
  },
  {
   "cell_type": "code",
   "execution_count": null,
   "id": "6c83b80f-544a-424f-9c2f-37c463067c66",
   "metadata": {},
   "outputs": [],
   "source": [
    "auxtel_sdss_ext = {}\n",
    "for idx,f in enumerate(filterlist):\n",
    "    func_transmission = interp1d(auxtel_sdss[f].wavelen, auxtel_sdss[f].sb, bounds_error=False, fill_value=0)\n",
    "    tr = func_transmission(WL)\n",
    "    auxtel_sdss_ext[f] =  Bandpass(wavelen=WL,sb=tr)"
   ]
  },
  {
   "cell_type": "code",
   "execution_count": null,
   "id": "321deef0-4642-434f-bdd2-573f13ff5990",
   "metadata": {},
   "outputs": [],
   "source": [
    "plt.figure(figsize=(8,6))\n",
    "for idx,f in enumerate(filterlist):\n",
    "    plt.scatter(auxtel_sdss_ext[f].wavelen, auxtel_sdss_ext[f].sb, color=filtercolors[f],marker='.' ,label=f)\n",
    "    plt.axvline(FILTERS[idx,0],color=filtercolors[f],linestyle=\":\")\n",
    "    plt.axvline(FILTERS[idx,1],color=filtercolors[f],linestyle=\":\")\n",
    "    plt.axvline(FILTERS[idx,2],color=filtercolors[f],linestyle=\"-.\")\n",
    "plt.xlabel(\"Wavelength (nm)\", fontsize='x-large')\n",
    "plt.ylabel(\"Throughput (0-1)\", fontsize='x-large')\n",
    "plt.ylim(0, 1)\n",
    "plt.grid(True, alpha=0.3, color='gray')\n",
    "plt.legend(loc='upper right', fancybox=True, fontsize='large')\n",
    "plt.title(\"Auxtel Photometry resampled and extended\")"
   ]
  },
  {
   "cell_type": "markdown",
   "id": "3e152eb3-9fee-428e-ac40-b50b6d115a07",
   "metadata": {},
   "source": [
    "# Save File"
   ]
  },
  {
   "cell_type": "code",
   "execution_count": null,
   "id": "67fcd886-990a-441e-a00d-6f307e4d7e89",
   "metadata": {
    "tags": []
   },
   "outputs": [],
   "source": [
    "for f in filterlist:\n",
    "    filename = f\"auxtel_sdss_{f}_total.dat\"\n",
    "    fullfilename = os.path.join(fdir,filename)\n",
    "    auxtel_sdss_ext[f].write_throughput(fullfilename)"
   ]
  },
  {
   "cell_type": "code",
   "execution_count": null,
   "id": "7339f0da-d30c-4a3a-be22-008b714f3530",
   "metadata": {},
   "outputs": [],
   "source": []
  }
 ],
 "metadata": {
  "kernelspec": {
   "display_name": "Python 3 (ipykernel)",
   "language": "python",
   "name": "python3"
  },
  "language_info": {
   "codemirror_mode": {
    "name": "ipython",
    "version": 3
   },
   "file_extension": ".py",
   "mimetype": "text/x-python",
   "name": "python",
   "nbconvert_exporter": "python",
   "pygments_lexer": "ipython3",
   "version": "3.11.5"
  }
 },
 "nbformat": 4,
 "nbformat_minor": 5
}
