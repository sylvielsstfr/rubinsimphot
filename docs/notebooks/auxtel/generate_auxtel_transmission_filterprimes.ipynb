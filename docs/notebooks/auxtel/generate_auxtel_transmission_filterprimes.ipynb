{
 "cells": [
  {
   "cell_type": "markdown",
   "id": "c1762601-e66e-40e5-99d6-7c60b8eb5938",
   "metadata": {},
   "source": [
    "# Generate Auxtel transmission from SDSS prime filters (no telescope transmission)\n",
    "\n",
    "- author Sylvie Dagoret-Campagne\n",
    "- creation date : 2024/03/29\n",
    "- last verification : 2024/03/30\n",
    "- last update 2024-08-30\n",
    "\n",
    "https://confluence.lsstcorp.org/pages/viewpage.action?spaceKey=LTS&title=AuxTel+Filters"
   ]
  },
  {
   "cell_type": "code",
   "execution_count": null,
   "id": "e71210ce-c077-4178-91a4-cd9343410c97",
   "metadata": {},
   "outputs": [],
   "source": [
    "import numpy as np\n",
    "import matplotlib.pyplot as plt\n",
    "%matplotlib inline\n",
    "import matplotlib.colors as colors\n",
    "import matplotlib.cm as cmx\n",
    "from mpl_toolkits.axes_grid1 import make_axes_locatable\n",
    "from matplotlib.colors import LogNorm\n",
    "from matplotlib.gridspec import GridSpec\n",
    "import seaborn as sns\n",
    "import pandas as pd\n",
    "import copy\n",
    "\n",
    "import matplotlib.ticker                         # here's where the formatter is\n",
    "import os\n",
    "import re\n",
    "import pandas as pd\n",
    "\n",
    "plt.rcParams[\"figure.figsize\"] = (8,6)\n",
    "plt.rcParams[\"axes.labelsize\"] = 'xx-large'\n",
    "plt.rcParams['axes.titlesize'] = 'xx-large'\n",
    "plt.rcParams['xtick.labelsize']= 'xx-large'\n",
    "plt.rcParams['ytick.labelsize']= 'xx-large'\n",
    "props = dict(boxstyle='round', facecolor='yellow', alpha=0.3)"
   ]
  },
  {
   "cell_type": "code",
   "execution_count": null,
   "id": "c817cd0d-2557-48f2-aed6-9427a2d45ef9",
   "metadata": {},
   "outputs": [],
   "source": [
    "from scipy import interpolate\n",
    "from astropy import constants as const\n",
    "from astropy import units as u"
   ]
  },
  {
   "cell_type": "markdown",
   "id": "ab35304b-1b3e-446c-b60e-01bee28e3d77",
   "metadata": {},
   "source": [
    "## Define the imput file"
   ]
  },
  {
   "cell_type": "code",
   "execution_count": null,
   "id": "42a8091f-d644-440d-9ca2-53670305db69",
   "metadata": {
    "tags": []
   },
   "outputs": [],
   "source": [
    "df = pd.read_excel(\"LSST_SDSS_Filters_primes.xlsx\")"
   ]
  },
  {
   "cell_type": "markdown",
   "id": "23019f73-7062-4d30-b892-779167b7e008",
   "metadata": {},
   "source": [
    "https://github.com/lsst/rubin_sim_notebooks/blob/main/photometry/calculating_snr.ipynb"
   ]
  },
  {
   "cell_type": "code",
   "execution_count": null,
   "id": "8843f01a-5687-4cc0-8b7d-25b8cd907623",
   "metadata": {},
   "outputs": [],
   "source": [
    "df"
   ]
  },
  {
   "cell_type": "code",
   "execution_count": null,
   "id": "fe0181af-f0b8-478e-8d55-3161f0780841",
   "metadata": {},
   "outputs": [],
   "source": [
    "df.columns"
   ]
  },
  {
   "cell_type": "markdown",
   "id": "d307ca49-6bd0-40b0-aab4-6211f27b9909",
   "metadata": {},
   "source": [
    "## No Nan but must cut"
   ]
  },
  {
   "cell_type": "code",
   "execution_count": null,
   "id": "4b29eba6-346c-4565-b017-5b79e575ac25",
   "metadata": {
    "tags": []
   },
   "outputs": [],
   "source": [
    "fig,ax = plt.subplots(1,1,figsize=(10,6))\n",
    "df.plot(x='BG WL', y='u\\' BG',ax=ax,color='b',ls = \":\",label=\"u\\'\")\n",
    "df.plot(x='BG WL', y='g\\' BG',ax=ax,color='g',label=\"g\\'\")\n",
    "df.plot(x='BG WL', y='r\\' BG',ax=ax,color='r',label=\"r\\'\")\n",
    "df.plot(x='BG WL', y='I\\' BG',ax=ax,color='orange',ls=\":\",label=\"I\\'\")\n",
    "df.plot(x='BG WL', y='z\\' BG',ax=ax,color='grey',label=\"z\\'\")\n",
    "df.plot(x='BG WL', y='y\\' BG',ax=ax,color='k',label=\"y\\'\")\n",
    "ax.legend()\n",
    "ax.axvline(11600)\n",
    "ax.set_xlim(3000.,11600.)\n",
    "ax.set_xlabel(\"$\\lambda  (\\\\AA)$\")\n",
    "ax.set_title(\"SDSS filters used for Auxtel Photometry (2023-2024)\")"
   ]
  },
  {
   "cell_type": "code",
   "execution_count": null,
   "id": "4b11800f-6e08-4fd8-b68c-bf53f13b4711",
   "metadata": {},
   "outputs": [],
   "source": [
    "fig,ax = plt.subplots(1,1,figsize=(12,6))\n",
    "df.plot(x='u\\' WL', y='u\\' 1',ax=ax,ls=\"-.\",color='b',label=\"u\\' 1\")\n",
    "df.plot(x='u\\' WL', y='u\\' 2',ax=ax,ls=\":\",color='b',label=\"u\\' 2\")\n",
    "df.plot(x='u\\' WL', y='No Filter',ax=ax,ls=\"-\",color='b',label=\"No Filter\")\n",
    "df.plot(x='g\\' WL', y='g\\'',ax=ax,ls=\"-.\",color='g',label=\"g\\'\")\n",
    "\n",
    "df.plot(x='r\\' WL', y='r\\'',ax=ax,ls=\"-.\",color='r',label=\"r\\'\")\n",
    "df.plot(x='i\\' WL', y='I\\'',ax=ax,ls=\"-.\",color='orange',label=\"i\\'\")\n",
    "df.plot(x='z\\' WL', y='z\\'',ax=ax,ls=\"-.\",color='grey',label=\"z\\'\")\n",
    "df.plot(x='y\\' WL', y='y\\'',ax=ax,ls=\"-.\",color='k',label=\"y\\'\")\n",
    "ax.legend()"
   ]
  },
  {
   "cell_type": "markdown",
   "id": "103172fa-0784-44e0-9e97-119d291be2de",
   "metadata": {},
   "source": [
    "## Write filters for auxtel_SDSS"
   ]
  },
  {
   "cell_type": "code",
   "execution_count": null,
   "id": "b369fc5b-cad3-4c72-8afe-1841357303f3",
   "metadata": {},
   "outputs": [],
   "source": [
    "#auxtel_sdss_up.dat\n",
    "# Wavelength(nm)  Throughput(0-1)"
   ]
  },
  {
   "cell_type": "markdown",
   "id": "56e1bdfe-b91c-4494-8d50-ea4f056b642d",
   "metadata": {},
   "source": [
    "### U filter"
   ]
  },
  {
   "cell_type": "code",
   "execution_count": null,
   "id": "b45e9af9-14ca-4b99-bf2c-f0955dbc5bf9",
   "metadata": {},
   "outputs": [],
   "source": [
    "filename_filter = 'auxtel_sdss_up.dat'"
   ]
  },
  {
   "cell_type": "code",
   "execution_count": null,
   "id": "0d6dee59-b413-4c1f-82e5-89b4aff89fb1",
   "metadata": {},
   "outputs": [],
   "source": [
    "df_u =df[['BG WL','u\\' BG']].rename(columns={'BG WL':'Wavelength(A)','u\\' BG':'Throughput(0-1)'})"
   ]
  },
  {
   "cell_type": "code",
   "execution_count": null,
   "id": "d5cf9182-4fbd-4dc5-bff8-49471248f3d3",
   "metadata": {},
   "outputs": [],
   "source": [
    "df_u"
   ]
  },
  {
   "cell_type": "code",
   "execution_count": null,
   "id": "90279d6b-c1f5-4a62-b9a1-5a8c9e7cc114",
   "metadata": {},
   "outputs": [],
   "source": [
    "df_u =df[['BG WL','u\\' BG']].rename(columns={'BG WL':'Wavelength(A)','u\\' BG':'Throughput(0-1)'})"
   ]
  },
  {
   "cell_type": "code",
   "execution_count": null,
   "id": "a5abcdf6-3668-4f92-a14b-75b5f924aeb3",
   "metadata": {},
   "outputs": [],
   "source": [
    "df_u['Wavelength(nm)'] = df_u['Wavelength(A)']/10.\n",
    "df_u.drop('Wavelength(A)',axis=1,inplace=True)\n",
    "df_u = df_u[['Wavelength(nm)','Throughput(0-1)']]"
   ]
  },
  {
   "cell_type": "code",
   "execution_count": null,
   "id": "6e4e4d7a-dc3c-4cd0-8474-b23e05434aed",
   "metadata": {},
   "outputs": [],
   "source": [
    "df_u"
   ]
  },
  {
   "cell_type": "code",
   "execution_count": null,
   "id": "38f33abf-549b-4034-87be-652e818aa595",
   "metadata": {},
   "outputs": [],
   "source": [
    "cut_wl = (df_u['Wavelength(nm)']>200) & (df_u['Wavelength(nm)']<1160)"
   ]
  },
  {
   "cell_type": "code",
   "execution_count": null,
   "id": "8d872007-afff-4cd6-8831-816085cddadf",
   "metadata": {},
   "outputs": [],
   "source": [
    "df_u =df_u[cut_wl]"
   ]
  },
  {
   "cell_type": "code",
   "execution_count": null,
   "id": "77ad133f-878f-45d0-b5c2-aa0d8b762c36",
   "metadata": {},
   "outputs": [],
   "source": [
    "df_u['Throughput(0-1)'][df_u['Throughput(0-1)']<0] = 0"
   ]
  },
  {
   "cell_type": "code",
   "execution_count": null,
   "id": "f63f3d60-9560-4ab8-9c5b-8406027af9c3",
   "metadata": {},
   "outputs": [],
   "source": [
    "df_u"
   ]
  },
  {
   "cell_type": "code",
   "execution_count": null,
   "id": "ae5e00f9-bb28-441a-acf6-d312fcdd4b46",
   "metadata": {},
   "outputs": [],
   "source": [
    "fig,ax = plt.subplots(1,1,figsize=(6,3))\n",
    "df_u.plot(x='Wavelength(nm)', y='Throughput(0-1)',ax=ax,color='b',label=\"u\\'\")"
   ]
  },
  {
   "cell_type": "code",
   "execution_count": null,
   "id": "caabb2a3-b898-4fa7-83a5-f6b91f99a97f",
   "metadata": {},
   "outputs": [],
   "source": [
    "df_u.set_index('Wavelength(nm)')"
   ]
  },
  {
   "cell_type": "code",
   "execution_count": null,
   "id": "a0daf71b-2047-4e57-aa47-51da17df63aa",
   "metadata": {},
   "outputs": [],
   "source": [
    "#df_u.index.rename('Wavelength(nm)',inplace=True)"
   ]
  },
  {
   "cell_type": "code",
   "execution_count": null,
   "id": "6d9a09ac-d0a3-4b01-94e8-59c111ba0235",
   "metadata": {},
   "outputs": [],
   "source": [
    "df_u"
   ]
  },
  {
   "cell_type": "code",
   "execution_count": null,
   "id": "333aeab3-3e8d-4416-be13-9458631d1540",
   "metadata": {},
   "outputs": [],
   "source": [
    "df_u.to_csv(filename_filter,sep=' ',index=False)"
   ]
  },
  {
   "cell_type": "markdown",
   "id": "28103bed-9aef-4a33-9183-e03ad6989244",
   "metadata": {},
   "source": [
    "## g filter"
   ]
  },
  {
   "cell_type": "code",
   "execution_count": null,
   "id": "93fa84b2-ba15-44a8-a2d1-6b88e691a144",
   "metadata": {},
   "outputs": [],
   "source": [
    "filename_filter = 'auxtel_sdss_gp.dat'"
   ]
  },
  {
   "cell_type": "code",
   "execution_count": null,
   "id": "17365a22-9e71-4528-8e9c-bd23a87673c0",
   "metadata": {},
   "outputs": [],
   "source": [
    "df_g =df[['BG WL','g\\' BG']].rename(columns={'BG WL':'Wavelength(A)','g\\' BG':'Throughput(0-1)'})"
   ]
  },
  {
   "cell_type": "code",
   "execution_count": null,
   "id": "541cca2b-26fe-4cad-804c-1fed5c7efc9c",
   "metadata": {},
   "outputs": [],
   "source": [
    "df_g"
   ]
  },
  {
   "cell_type": "code",
   "execution_count": null,
   "id": "d1c49544-1b75-4a51-b42b-6626348a87d5",
   "metadata": {},
   "outputs": [],
   "source": [
    "df_g['Wavelength(nm)'] = df_g['Wavelength(A)']/10.\n",
    "df_g.drop('Wavelength(A)',axis=1,inplace=True)\n",
    "df_g = df_g[['Wavelength(nm)','Throughput(0-1)']]"
   ]
  },
  {
   "cell_type": "code",
   "execution_count": null,
   "id": "b2ab0b26-c19b-409a-9438-c35f367b0ec7",
   "metadata": {},
   "outputs": [],
   "source": [
    "cut_wl = (df_g['Wavelength(nm)']>200.) & (df_g['Wavelength(nm)']<1160.)"
   ]
  },
  {
   "cell_type": "code",
   "execution_count": null,
   "id": "d5719ecf-9ba8-49f4-bda2-e1b4631ba214",
   "metadata": {},
   "outputs": [],
   "source": [
    "df_g = df_g[cut_wl]"
   ]
  },
  {
   "cell_type": "code",
   "execution_count": null,
   "id": "893ed53f-bf19-4bf0-8d03-f8edfabb0106",
   "metadata": {},
   "outputs": [],
   "source": [
    "df_g"
   ]
  },
  {
   "cell_type": "code",
   "execution_count": null,
   "id": "a02b3624-1992-487c-bb45-4435334c796b",
   "metadata": {},
   "outputs": [],
   "source": [
    "df_g['Throughput(0-1)'][df_g['Throughput(0-1)']<0] = 0"
   ]
  },
  {
   "cell_type": "code",
   "execution_count": null,
   "id": "e8d9f19a-852e-4e9b-a3d7-4cb79586b846",
   "metadata": {},
   "outputs": [],
   "source": [
    "fig,ax = plt.subplots(1,1,figsize=(6,3))\n",
    "df_g.plot(x='Wavelength(nm)', y='Throughput(0-1)',ax=ax,color='g',label=\"g\\'\")"
   ]
  },
  {
   "cell_type": "code",
   "execution_count": null,
   "id": "4f5a1c28-29f8-4c44-9ab5-d7e935be9930",
   "metadata": {},
   "outputs": [],
   "source": [
    "df_g.set_index('Wavelength(nm)')"
   ]
  },
  {
   "cell_type": "code",
   "execution_count": null,
   "id": "157b8c04-81dc-42aa-afe9-e4552b4c3da9",
   "metadata": {},
   "outputs": [],
   "source": [
    "df_g.to_csv(filename_filter,sep=' ',index=False)"
   ]
  },
  {
   "cell_type": "markdown",
   "id": "b685104a-ed5d-426b-a413-c98a94364374",
   "metadata": {},
   "source": [
    "### r filter"
   ]
  },
  {
   "cell_type": "code",
   "execution_count": null,
   "id": "54c5a179-caad-460a-8f63-8a14f1ef25f4",
   "metadata": {},
   "outputs": [],
   "source": [
    "filename_filter = 'auxtel_sdss_rp.dat'"
   ]
  },
  {
   "cell_type": "code",
   "execution_count": null,
   "id": "56d7e5b0-8d80-4433-a39e-5decd80a3a4a",
   "metadata": {},
   "outputs": [],
   "source": [
    "df_r =df[['BG WL','r\\' BG']].rename(columns={'BG WL':'Wavelength(A)','r\\' BG':'Throughput(0-1)'})"
   ]
  },
  {
   "cell_type": "code",
   "execution_count": null,
   "id": "cce0a6ff-6182-41eb-8d2d-faf3625729a4",
   "metadata": {},
   "outputs": [],
   "source": [
    "df_r"
   ]
  },
  {
   "cell_type": "code",
   "execution_count": null,
   "id": "b3b09c3b-fc29-47b2-af32-213d2d3c08b9",
   "metadata": {},
   "outputs": [],
   "source": [
    "df_r['Wavelength(nm)'] = df_r['Wavelength(A)']/10.\n",
    "df_r.drop('Wavelength(A)',axis=1,inplace=True)\n",
    "df_r = df_r[['Wavelength(nm)','Throughput(0-1)']]"
   ]
  },
  {
   "cell_type": "code",
   "execution_count": null,
   "id": "c10b571b-f43e-448e-ac02-8a17274b25a6",
   "metadata": {},
   "outputs": [],
   "source": [
    "df_r['Throughput(0-1)'][df_r['Throughput(0-1)']<0] = 0"
   ]
  },
  {
   "cell_type": "code",
   "execution_count": null,
   "id": "e5b814f5-5ee0-4c06-9cc0-691a9dcda1c3",
   "metadata": {},
   "outputs": [],
   "source": [
    "cut_wl = (df_r['Wavelength(nm)']>200.) & (df_r['Wavelength(nm)']<1160)"
   ]
  },
  {
   "cell_type": "code",
   "execution_count": null,
   "id": "057e5214-4ad9-4e2f-8e21-d6585d6f94bb",
   "metadata": {},
   "outputs": [],
   "source": [
    "df_r = df_r[cut_wl]"
   ]
  },
  {
   "cell_type": "code",
   "execution_count": null,
   "id": "56b27582-4f61-4cb1-8c35-c9f1279e05d9",
   "metadata": {},
   "outputs": [],
   "source": [
    "fig,ax = plt.subplots(1,1,figsize=(6,3))\n",
    "df_r.plot(x='Wavelength(nm)', y='Throughput(0-1)',ax=ax,color='r',label=\"r\\'\")"
   ]
  },
  {
   "cell_type": "code",
   "execution_count": null,
   "id": "60a119cd-79e7-46ad-b106-80613e351aa1",
   "metadata": {},
   "outputs": [],
   "source": [
    "df_r.set_index('Wavelength(nm)')"
   ]
  },
  {
   "cell_type": "code",
   "execution_count": null,
   "id": "386263a8-9ea3-4ad0-81ee-3e0bd52a095a",
   "metadata": {},
   "outputs": [],
   "source": [
    "df_r.to_csv(filename_filter,sep=' ',index=False)"
   ]
  },
  {
   "cell_type": "markdown",
   "id": "71b0325e-4d55-45f1-9ccf-5c47a7c42ac4",
   "metadata": {},
   "source": [
    "### I Filter"
   ]
  },
  {
   "cell_type": "code",
   "execution_count": null,
   "id": "0e16980b-de24-487c-9a8d-edf0b10011c7",
   "metadata": {},
   "outputs": [],
   "source": [
    "filename_filter = 'auxtel_sdss_ip.dat'"
   ]
  },
  {
   "cell_type": "code",
   "execution_count": null,
   "id": "631a49a1-c007-4af1-955a-47c6a985f124",
   "metadata": {},
   "outputs": [],
   "source": [
    "df_i =df[['BG WL','I\\' BG']].rename(columns={'BG WL':'Wavelength(A)','I\\' BG':'Throughput(0-1)'})"
   ]
  },
  {
   "cell_type": "code",
   "execution_count": null,
   "id": "046adbab-bdde-4545-afc1-98e8adff987e",
   "metadata": {},
   "outputs": [],
   "source": [
    "df_i['Wavelength(nm)'] = df_i['Wavelength(A)']/10.\n",
    "df_i.drop('Wavelength(A)',axis=1,inplace=True)\n",
    "df_i = df_i[['Wavelength(nm)','Throughput(0-1)']]"
   ]
  },
  {
   "cell_type": "code",
   "execution_count": null,
   "id": "8b99d69e-e67f-4dc8-9c3c-b0b94b88a8ec",
   "metadata": {},
   "outputs": [],
   "source": [
    "df_i['Throughput(0-1)'][df_i['Throughput(0-1)']<0] = 0"
   ]
  },
  {
   "cell_type": "code",
   "execution_count": null,
   "id": "b36e8826-e3a9-4567-a128-1e1650eb5966",
   "metadata": {},
   "outputs": [],
   "source": [
    "cut_wl = (df_i['Wavelength(nm)']>200.) & (df_i['Wavelength(nm)']<1160)"
   ]
  },
  {
   "cell_type": "code",
   "execution_count": null,
   "id": "bcae7be0-660c-4190-aa7a-f59718103145",
   "metadata": {},
   "outputs": [],
   "source": [
    "df_i = df_i[cut_wl]"
   ]
  },
  {
   "cell_type": "code",
   "execution_count": null,
   "id": "87e99959-9d7d-437f-9394-9f744d16fce2",
   "metadata": {},
   "outputs": [],
   "source": [
    "fig,ax = plt.subplots(1,1,figsize=(6,3))\n",
    "df_i.plot(x='Wavelength(nm)', y='Throughput(0-1)',ax=ax,color='orange',label=\"i\\'\")"
   ]
  },
  {
   "cell_type": "code",
   "execution_count": null,
   "id": "03472320-ff38-4618-a02e-041cdd09faab",
   "metadata": {},
   "outputs": [],
   "source": [
    "df_i.set_index('Wavelength(nm)')"
   ]
  },
  {
   "cell_type": "code",
   "execution_count": null,
   "id": "8e62f9f0-df51-418f-9786-1570e33ee170",
   "metadata": {},
   "outputs": [],
   "source": [
    "df_i.to_csv(filename_filter,sep=' ',index=False)"
   ]
  },
  {
   "cell_type": "markdown",
   "id": "6d9ba037-6632-4202-a8c8-4e6ae52380cb",
   "metadata": {},
   "source": [
    "### z filter"
   ]
  },
  {
   "cell_type": "code",
   "execution_count": null,
   "id": "6b7daab4-03e5-47df-b7e8-9a48ce8b7aca",
   "metadata": {},
   "outputs": [],
   "source": [
    "filename_filter = 'auxtel_sdss_zp.dat'"
   ]
  },
  {
   "cell_type": "code",
   "execution_count": null,
   "id": "c3b8ab10-2ef4-4812-9226-8a8ebd5d06cd",
   "metadata": {},
   "outputs": [],
   "source": [
    "df_z =df[['BG WL','z\\' BG']].rename(columns={'BG WL':'Wavelength(A)','z\\' BG':'Throughput(0-1)'})"
   ]
  },
  {
   "cell_type": "code",
   "execution_count": null,
   "id": "d81522c5-9228-467c-adb0-25e9d8b00cc9",
   "metadata": {},
   "outputs": [],
   "source": [
    "df_z['Wavelength(nm)'] = df_z['Wavelength(A)']/10.\n",
    "df_z.drop('Wavelength(A)',axis=1,inplace=True)\n",
    "df_z = df_z[['Wavelength(nm)','Throughput(0-1)']]"
   ]
  },
  {
   "cell_type": "code",
   "execution_count": null,
   "id": "246eda9d-9274-43ea-a172-5f06434aa1a9",
   "metadata": {},
   "outputs": [],
   "source": [
    "df_z['Throughput(0-1)'][df_z['Throughput(0-1)']<0] = 0"
   ]
  },
  {
   "cell_type": "code",
   "execution_count": null,
   "id": "f5d65445-1896-45e8-b878-fc7556f63f2e",
   "metadata": {},
   "outputs": [],
   "source": [
    "cut_wl = (df_z['Wavelength(nm)']>200.) & (df_z['Wavelength(nm)']<1160)\n",
    "cut_wl1 = df_z['Wavelength(nm)']>200. \n",
    "cut_wl2 = df_z['Wavelength(nm)']<1160"
   ]
  },
  {
   "cell_type": "code",
   "execution_count": null,
   "id": "506f00b2-31c6-4664-8483-ffb8689f24d0",
   "metadata": {},
   "outputs": [],
   "source": [
    "df_z = df_z[cut_wl]\n",
    "df_z = df_z[cut_wl1]"
   ]
  },
  {
   "cell_type": "code",
   "execution_count": null,
   "id": "2847acd1-c772-4d12-bbb1-d1fd093064f2",
   "metadata": {},
   "outputs": [],
   "source": [
    "fig,ax = plt.subplots(1,1,figsize=(6,3))\n",
    "df_z.plot(x='Wavelength(nm)', y='Throughput(0-1)',ax=ax,color='grey',label=\"z\\'\")"
   ]
  },
  {
   "cell_type": "code",
   "execution_count": null,
   "id": "42c12bae-a1d4-4b88-bada-f46fbadd2110",
   "metadata": {},
   "outputs": [],
   "source": [
    "df_z.to_csv(filename_filter,sep=' ',index=False)"
   ]
  },
  {
   "cell_type": "markdown",
   "id": "2ead0504-3be4-459c-bd4b-13c8129333ea",
   "metadata": {},
   "source": [
    "### Y filter"
   ]
  },
  {
   "cell_type": "code",
   "execution_count": null,
   "id": "1dae8f5e-19f0-4291-b108-1ed2fc615f9d",
   "metadata": {},
   "outputs": [],
   "source": [
    "filename_filter = 'auxtel_sdss_yp.dat'"
   ]
  },
  {
   "cell_type": "code",
   "execution_count": null,
   "id": "f64f53ff-8510-4221-a797-8be725a9ba7e",
   "metadata": {},
   "outputs": [],
   "source": [
    "df_y =df[['BG WL','y\\' BG']].rename(columns={'BG WL':'Wavelength(A)','y\\' BG':'Throughput(0-1)'})"
   ]
  },
  {
   "cell_type": "code",
   "execution_count": null,
   "id": "82565769-4a81-4500-9745-c84c9d7a90f9",
   "metadata": {},
   "outputs": [],
   "source": [
    "df_y['Wavelength(nm)'] = df_y['Wavelength(A)']/10.\n",
    "df_y.drop('Wavelength(A)',axis=1,inplace=True)\n",
    "df_y = df_y[['Wavelength(nm)','Throughput(0-1)']]"
   ]
  },
  {
   "cell_type": "code",
   "execution_count": null,
   "id": "63ca27e7-8063-4a49-bd68-8ac099280325",
   "metadata": {},
   "outputs": [],
   "source": [
    "df_y['Throughput(0-1)'][df_y['Throughput(0-1)']<0] = 0"
   ]
  },
  {
   "cell_type": "code",
   "execution_count": null,
   "id": "4ad8d110-e5fc-41e7-9cee-5ba51c0e72db",
   "metadata": {},
   "outputs": [],
   "source": [
    "cut_wl = (df_y['Wavelength(nm)']>200.) & (df_y['Wavelength(nm)']<1160)"
   ]
  },
  {
   "cell_type": "code",
   "execution_count": null,
   "id": "b5ba4fbb-520e-4bdf-96ae-5207adf65dc6",
   "metadata": {},
   "outputs": [],
   "source": [
    "df_y = df_y[cut_wl]"
   ]
  },
  {
   "cell_type": "code",
   "execution_count": null,
   "id": "6eb75cc1-1552-4cc4-81d5-00130d94f91b",
   "metadata": {},
   "outputs": [],
   "source": [
    "fig,ax = plt.subplots(1,1,figsize=(6,3))\n",
    "df_y.plot(x='Wavelength(nm)', y='Throughput(0-1)',ax=ax,color='k',label=\"y\\'\")"
   ]
  },
  {
   "cell_type": "code",
   "execution_count": null,
   "id": "07ba75a1-c3cd-4944-9fac-1e415f09fd2d",
   "metadata": {},
   "outputs": [],
   "source": [
    "df_y.to_csv(filename_filter,sep=' ',index=False)"
   ]
  },
  {
   "cell_type": "code",
   "execution_count": null,
   "id": "fdb9b301-9481-45f5-9702-f0ef3649e04e",
   "metadata": {},
   "outputs": [],
   "source": []
  }
 ],
 "metadata": {
  "kernelspec": {
   "display_name": "Python 3 (ipykernel)",
   "language": "python",
   "name": "python3"
  },
  "language_info": {
   "codemirror_mode": {
    "name": "ipython",
    "version": 3
   },
   "file_extension": ".py",
   "mimetype": "text/x-python",
   "name": "python",
   "nbconvert_exporter": "python",
   "pygments_lexer": "ipython3",
   "version": "3.11.5"
  }
 },
 "nbformat": 4,
 "nbformat_minor": 5
}
