{
 "cells": [
  {
   "cell_type": "markdown",
   "id": "c1762601-e66e-40e5-99d6-7c60b8eb5938",
   "metadata": {},
   "source": [
    "# Generate Auxtel transmission from SDSS prime filters (no telescope transmission)\n",
    "\n",
    "- author Sylvie Dagoret-Campagne\n",
    "- creation date : 2024/03/29\n",
    "- last verification : 2024/03/30\n",
    "\n",
    "https://confluence.lsstcorp.org/pages/viewpage.action?spaceKey=LTS&title=AuxTel+Filters"
   ]
  },
  {
   "cell_type": "code",
   "execution_count": 1,
   "id": "e71210ce-c077-4178-91a4-cd9343410c97",
   "metadata": {},
   "outputs": [],
   "source": [
    "import numpy as np\n",
    "import matplotlib.pyplot as plt\n",
    "%matplotlib inline\n",
    "import matplotlib.colors as colors\n",
    "import matplotlib.cm as cmx\n",
    "from mpl_toolkits.axes_grid1 import make_axes_locatable\n",
    "from matplotlib.colors import LogNorm\n",
    "from matplotlib.gridspec import GridSpec\n",
    "import seaborn as sns\n",
    "import pandas as pd\n",
    "import copy\n",
    "\n",
    "import matplotlib.ticker                         # here's where the formatter is\n",
    "import os\n",
    "import re\n",
    "import pandas as pd\n",
    "\n",
    "plt.rcParams[\"figure.figsize\"] = (8,6)\n",
    "plt.rcParams[\"axes.labelsize\"] = 'xx-large'\n",
    "plt.rcParams['axes.titlesize'] = 'xx-large'\n",
    "plt.rcParams['xtick.labelsize']= 'xx-large'\n",
    "plt.rcParams['ytick.labelsize']= 'xx-large'\n",
    "props = dict(boxstyle='round', facecolor='yellow', alpha=0.3)"
   ]
  },
  {
   "cell_type": "code",
   "execution_count": 2,
   "id": "c817cd0d-2557-48f2-aed6-9427a2d45ef9",
   "metadata": {},
   "outputs": [],
   "source": [
    "from scipy import interpolate\n",
    "from astropy import constants as const\n",
    "from astropy import units as u"
   ]
  },
  {
   "cell_type": "markdown",
   "id": "ab35304b-1b3e-446c-b60e-01bee28e3d77",
   "metadata": {},
   "source": [
    "## Define the imput file"
   ]
  },
  {
   "cell_type": "code",
   "execution_count": 3,
   "id": "42a8091f-d644-440d-9ca2-53670305db69",
   "metadata": {
    "tags": []
   },
   "outputs": [],
   "source": [
    "df = pd.read_excel(\"LSST_SDSS_Filters_primes.xlsx\")"
   ]
  },
  {
   "cell_type": "markdown",
   "id": "23019f73-7062-4d30-b892-779167b7e008",
   "metadata": {},
   "source": [
    "https://github.com/lsst/rubin_sim_notebooks/blob/main/photometry/calculating_snr.ipynb"
   ]
  },
  {
   "cell_type": "code",
   "execution_count": 4,
   "id": "8843f01a-5687-4cc0-8b7d-25b8cd907623",
   "metadata": {},
   "outputs": [
    {
     "data": {
      "text/html": [
       "<div>\n",
       "<style scoped>\n",
       "    .dataframe tbody tr th:only-of-type {\n",
       "        vertical-align: middle;\n",
       "    }\n",
       "\n",
       "    .dataframe tbody tr th {\n",
       "        vertical-align: top;\n",
       "    }\n",
       "\n",
       "    .dataframe thead th {\n",
       "        text-align: right;\n",
       "    }\n",
       "</style>\n",
       "<table border=\"1\" class=\"dataframe\">\n",
       "  <thead>\n",
       "    <tr style=\"text-align: right;\">\n",
       "      <th></th>\n",
       "      <th>BG WL</th>\n",
       "      <th>u' BG</th>\n",
       "      <th>g' BG</th>\n",
       "      <th>r' BG</th>\n",
       "      <th>I' BG</th>\n",
       "      <th>z' BG</th>\n",
       "      <th>y' BG</th>\n",
       "      <th>u' WL</th>\n",
       "      <th>u' 1</th>\n",
       "      <th>u' 2</th>\n",
       "      <th>...</th>\n",
       "      <th>g' WL</th>\n",
       "      <th>g'</th>\n",
       "      <th>r' WL</th>\n",
       "      <th>r'</th>\n",
       "      <th>i' WL</th>\n",
       "      <th>I'</th>\n",
       "      <th>z' WL</th>\n",
       "      <th>z'</th>\n",
       "      <th>y' WL</th>\n",
       "      <th>y'</th>\n",
       "    </tr>\n",
       "  </thead>\n",
       "  <tbody>\n",
       "    <tr>\n",
       "      <th>0</th>\n",
       "      <td>3000</td>\n",
       "      <td>0.00065</td>\n",
       "      <td>-0.00010</td>\n",
       "      <td>-0.00005</td>\n",
       "      <td>-0.00005</td>\n",
       "      <td>-0.00010</td>\n",
       "      <td>-0.00005</td>\n",
       "      <td>3000.0</td>\n",
       "      <td>0.00075</td>\n",
       "      <td>0.00075</td>\n",
       "      <td>...</td>\n",
       "      <td>3800.0</td>\n",
       "      <td>-0.00005</td>\n",
       "      <td>5400.0</td>\n",
       "      <td>0.00005</td>\n",
       "      <td>6500.0</td>\n",
       "      <td>-0.00005</td>\n",
       "      <td>7800.0</td>\n",
       "      <td>0.0</td>\n",
       "      <td>9200.0</td>\n",
       "      <td>0.00050</td>\n",
       "    </tr>\n",
       "    <tr>\n",
       "      <th>1</th>\n",
       "      <td>3010</td>\n",
       "      <td>0.00030</td>\n",
       "      <td>-0.00005</td>\n",
       "      <td>-0.00005</td>\n",
       "      <td>-0.00005</td>\n",
       "      <td>-0.00005</td>\n",
       "      <td>-0.00005</td>\n",
       "      <td>3010.0</td>\n",
       "      <td>0.00065</td>\n",
       "      <td>0.00060</td>\n",
       "      <td>...</td>\n",
       "      <td>3810.0</td>\n",
       "      <td>0.00000</td>\n",
       "      <td>5410.0</td>\n",
       "      <td>0.00000</td>\n",
       "      <td>6510.0</td>\n",
       "      <td>-0.00005</td>\n",
       "      <td>7810.0</td>\n",
       "      <td>0.0</td>\n",
       "      <td>9210.0</td>\n",
       "      <td>0.00030</td>\n",
       "    </tr>\n",
       "    <tr>\n",
       "      <th>2</th>\n",
       "      <td>3020</td>\n",
       "      <td>0.00005</td>\n",
       "      <td>-0.00005</td>\n",
       "      <td>-0.00005</td>\n",
       "      <td>-0.00005</td>\n",
       "      <td>-0.00005</td>\n",
       "      <td>-0.00005</td>\n",
       "      <td>3020.0</td>\n",
       "      <td>0.00020</td>\n",
       "      <td>0.00020</td>\n",
       "      <td>...</td>\n",
       "      <td>3820.0</td>\n",
       "      <td>-0.00005</td>\n",
       "      <td>5420.0</td>\n",
       "      <td>0.00005</td>\n",
       "      <td>6520.0</td>\n",
       "      <td>-0.00005</td>\n",
       "      <td>7820.0</td>\n",
       "      <td>0.0</td>\n",
       "      <td>9220.0</td>\n",
       "      <td>0.00070</td>\n",
       "    </tr>\n",
       "    <tr>\n",
       "      <th>3</th>\n",
       "      <td>3030</td>\n",
       "      <td>0.00000</td>\n",
       "      <td>-0.00010</td>\n",
       "      <td>-0.00005</td>\n",
       "      <td>-0.00005</td>\n",
       "      <td>-0.00010</td>\n",
       "      <td>-0.00005</td>\n",
       "      <td>3030.0</td>\n",
       "      <td>0.00000</td>\n",
       "      <td>0.00000</td>\n",
       "      <td>...</td>\n",
       "      <td>3830.0</td>\n",
       "      <td>0.00000</td>\n",
       "      <td>5430.0</td>\n",
       "      <td>0.00005</td>\n",
       "      <td>6530.0</td>\n",
       "      <td>0.00000</td>\n",
       "      <td>7830.0</td>\n",
       "      <td>0.0</td>\n",
       "      <td>9230.0</td>\n",
       "      <td>0.00045</td>\n",
       "    </tr>\n",
       "    <tr>\n",
       "      <th>4</th>\n",
       "      <td>3040</td>\n",
       "      <td>-0.00005</td>\n",
       "      <td>-0.00005</td>\n",
       "      <td>-0.00005</td>\n",
       "      <td>-0.00005</td>\n",
       "      <td>-0.00005</td>\n",
       "      <td>-0.00005</td>\n",
       "      <td>3040.0</td>\n",
       "      <td>0.00000</td>\n",
       "      <td>-0.00005</td>\n",
       "      <td>...</td>\n",
       "      <td>3840.0</td>\n",
       "      <td>0.00000</td>\n",
       "      <td>5440.0</td>\n",
       "      <td>0.00005</td>\n",
       "      <td>6540.0</td>\n",
       "      <td>-0.00005</td>\n",
       "      <td>7840.0</td>\n",
       "      <td>0.0</td>\n",
       "      <td>9240.0</td>\n",
       "      <td>0.00055</td>\n",
       "    </tr>\n",
       "    <tr>\n",
       "      <th>...</th>\n",
       "      <td>...</td>\n",
       "      <td>...</td>\n",
       "      <td>...</td>\n",
       "      <td>...</td>\n",
       "      <td>...</td>\n",
       "      <td>...</td>\n",
       "      <td>...</td>\n",
       "      <td>...</td>\n",
       "      <td>...</td>\n",
       "      <td>...</td>\n",
       "      <td>...</td>\n",
       "      <td>...</td>\n",
       "      <td>...</td>\n",
       "      <td>...</td>\n",
       "      <td>...</td>\n",
       "      <td>...</td>\n",
       "      <td>...</td>\n",
       "      <td>...</td>\n",
       "      <td>...</td>\n",
       "      <td>...</td>\n",
       "      <td>...</td>\n",
       "    </tr>\n",
       "    <tr>\n",
       "      <th>937</th>\n",
       "      <td>12460</td>\n",
       "      <td>0.00020</td>\n",
       "      <td>0.51755</td>\n",
       "      <td>0.57150</td>\n",
       "      <td>0.23960</td>\n",
       "      <td>0.15615</td>\n",
       "      <td>0.00050</td>\n",
       "      <td>NaN</td>\n",
       "      <td>NaN</td>\n",
       "      <td>NaN</td>\n",
       "      <td>...</td>\n",
       "      <td>NaN</td>\n",
       "      <td>NaN</td>\n",
       "      <td>NaN</td>\n",
       "      <td>NaN</td>\n",
       "      <td>NaN</td>\n",
       "      <td>NaN</td>\n",
       "      <td>NaN</td>\n",
       "      <td>NaN</td>\n",
       "      <td>NaN</td>\n",
       "      <td>NaN</td>\n",
       "    </tr>\n",
       "    <tr>\n",
       "      <th>938</th>\n",
       "      <td>12470</td>\n",
       "      <td>0.00035</td>\n",
       "      <td>0.51165</td>\n",
       "      <td>0.65090</td>\n",
       "      <td>0.27940</td>\n",
       "      <td>0.16050</td>\n",
       "      <td>0.00045</td>\n",
       "      <td>NaN</td>\n",
       "      <td>NaN</td>\n",
       "      <td>NaN</td>\n",
       "      <td>...</td>\n",
       "      <td>NaN</td>\n",
       "      <td>NaN</td>\n",
       "      <td>NaN</td>\n",
       "      <td>NaN</td>\n",
       "      <td>NaN</td>\n",
       "      <td>NaN</td>\n",
       "      <td>NaN</td>\n",
       "      <td>NaN</td>\n",
       "      <td>NaN</td>\n",
       "      <td>NaN</td>\n",
       "    </tr>\n",
       "    <tr>\n",
       "      <th>939</th>\n",
       "      <td>12480</td>\n",
       "      <td>0.00035</td>\n",
       "      <td>0.50500</td>\n",
       "      <td>0.72935</td>\n",
       "      <td>0.32505</td>\n",
       "      <td>0.16520</td>\n",
       "      <td>0.00075</td>\n",
       "      <td>NaN</td>\n",
       "      <td>NaN</td>\n",
       "      <td>NaN</td>\n",
       "      <td>...</td>\n",
       "      <td>NaN</td>\n",
       "      <td>NaN</td>\n",
       "      <td>NaN</td>\n",
       "      <td>NaN</td>\n",
       "      <td>NaN</td>\n",
       "      <td>NaN</td>\n",
       "      <td>NaN</td>\n",
       "      <td>NaN</td>\n",
       "      <td>NaN</td>\n",
       "      <td>NaN</td>\n",
       "    </tr>\n",
       "    <tr>\n",
       "      <th>940</th>\n",
       "      <td>12490</td>\n",
       "      <td>0.00000</td>\n",
       "      <td>0.49850</td>\n",
       "      <td>0.79275</td>\n",
       "      <td>0.37175</td>\n",
       "      <td>0.16970</td>\n",
       "      <td>0.00110</td>\n",
       "      <td>NaN</td>\n",
       "      <td>NaN</td>\n",
       "      <td>NaN</td>\n",
       "      <td>...</td>\n",
       "      <td>NaN</td>\n",
       "      <td>NaN</td>\n",
       "      <td>NaN</td>\n",
       "      <td>NaN</td>\n",
       "      <td>NaN</td>\n",
       "      <td>NaN</td>\n",
       "      <td>NaN</td>\n",
       "      <td>NaN</td>\n",
       "      <td>NaN</td>\n",
       "      <td>NaN</td>\n",
       "    </tr>\n",
       "    <tr>\n",
       "      <th>941</th>\n",
       "      <td>12500</td>\n",
       "      <td>0.00025</td>\n",
       "      <td>0.49600</td>\n",
       "      <td>0.81270</td>\n",
       "      <td>0.39090</td>\n",
       "      <td>0.17130</td>\n",
       "      <td>0.00310</td>\n",
       "      <td>NaN</td>\n",
       "      <td>NaN</td>\n",
       "      <td>NaN</td>\n",
       "      <td>...</td>\n",
       "      <td>NaN</td>\n",
       "      <td>NaN</td>\n",
       "      <td>NaN</td>\n",
       "      <td>NaN</td>\n",
       "      <td>NaN</td>\n",
       "      <td>NaN</td>\n",
       "      <td>NaN</td>\n",
       "      <td>NaN</td>\n",
       "      <td>NaN</td>\n",
       "      <td>NaN</td>\n",
       "    </tr>\n",
       "  </tbody>\n",
       "</table>\n",
       "<p>942 rows × 21 columns</p>\n",
       "</div>"
      ],
      "text/plain": [
       "     BG WL    u' BG    g' BG    r' BG    I' BG    z' BG    y' BG   u' WL  \\\n",
       "0     3000  0.00065 -0.00010 -0.00005 -0.00005 -0.00010 -0.00005  3000.0   \n",
       "1     3010  0.00030 -0.00005 -0.00005 -0.00005 -0.00005 -0.00005  3010.0   \n",
       "2     3020  0.00005 -0.00005 -0.00005 -0.00005 -0.00005 -0.00005  3020.0   \n",
       "3     3030  0.00000 -0.00010 -0.00005 -0.00005 -0.00010 -0.00005  3030.0   \n",
       "4     3040 -0.00005 -0.00005 -0.00005 -0.00005 -0.00005 -0.00005  3040.0   \n",
       "..     ...      ...      ...      ...      ...      ...      ...     ...   \n",
       "937  12460  0.00020  0.51755  0.57150  0.23960  0.15615  0.00050     NaN   \n",
       "938  12470  0.00035  0.51165  0.65090  0.27940  0.16050  0.00045     NaN   \n",
       "939  12480  0.00035  0.50500  0.72935  0.32505  0.16520  0.00075     NaN   \n",
       "940  12490  0.00000  0.49850  0.79275  0.37175  0.16970  0.00110     NaN   \n",
       "941  12500  0.00025  0.49600  0.81270  0.39090  0.17130  0.00310     NaN   \n",
       "\n",
       "        u' 1     u' 2  ...   g' WL       g'   r' WL       r'   i' WL       I'  \\\n",
       "0    0.00075  0.00075  ...  3800.0 -0.00005  5400.0  0.00005  6500.0 -0.00005   \n",
       "1    0.00065  0.00060  ...  3810.0  0.00000  5410.0  0.00000  6510.0 -0.00005   \n",
       "2    0.00020  0.00020  ...  3820.0 -0.00005  5420.0  0.00005  6520.0 -0.00005   \n",
       "3    0.00000  0.00000  ...  3830.0  0.00000  5430.0  0.00005  6530.0  0.00000   \n",
       "4    0.00000 -0.00005  ...  3840.0  0.00000  5440.0  0.00005  6540.0 -0.00005   \n",
       "..       ...      ...  ...     ...      ...     ...      ...     ...      ...   \n",
       "937      NaN      NaN  ...     NaN      NaN     NaN      NaN     NaN      NaN   \n",
       "938      NaN      NaN  ...     NaN      NaN     NaN      NaN     NaN      NaN   \n",
       "939      NaN      NaN  ...     NaN      NaN     NaN      NaN     NaN      NaN   \n",
       "940      NaN      NaN  ...     NaN      NaN     NaN      NaN     NaN      NaN   \n",
       "941      NaN      NaN  ...     NaN      NaN     NaN      NaN     NaN      NaN   \n",
       "\n",
       "      z' WL   z'   y' WL       y'  \n",
       "0    7800.0  0.0  9200.0  0.00050  \n",
       "1    7810.0  0.0  9210.0  0.00030  \n",
       "2    7820.0  0.0  9220.0  0.00070  \n",
       "3    7830.0  0.0  9230.0  0.00045  \n",
       "4    7840.0  0.0  9240.0  0.00055  \n",
       "..      ...  ...     ...      ...  \n",
       "937     NaN  NaN     NaN      NaN  \n",
       "938     NaN  NaN     NaN      NaN  \n",
       "939     NaN  NaN     NaN      NaN  \n",
       "940     NaN  NaN     NaN      NaN  \n",
       "941     NaN  NaN     NaN      NaN  \n",
       "\n",
       "[942 rows x 21 columns]"
      ]
     },
     "execution_count": 4,
     "metadata": {},
     "output_type": "execute_result"
    }
   ],
   "source": [
    "df"
   ]
  },
  {
   "cell_type": "code",
   "execution_count": 5,
   "id": "fe0181af-f0b8-478e-8d55-3161f0780841",
   "metadata": {},
   "outputs": [
    {
     "data": {
      "text/plain": [
       "Index(['BG WL', 'u' BG', 'g' BG', 'r' BG', 'I' BG', 'z' BG', 'y' BG', 'u' WL',\n",
       "       'u' 1', 'u' 2', 'No Filter', 'g' WL', 'g'', 'r' WL', 'r'', 'i' WL',\n",
       "       'I'', 'z' WL', 'z'', 'y' WL', 'y''],\n",
       "      dtype='object')"
      ]
     },
     "execution_count": 5,
     "metadata": {},
     "output_type": "execute_result"
    }
   ],
   "source": [
    "df.columns"
   ]
  },
  {
   "cell_type": "markdown",
   "id": "d307ca49-6bd0-40b0-aab4-6211f27b9909",
   "metadata": {},
   "source": [
    "## No Nan but must cut"
   ]
  },
  {
   "cell_type": "code",
   "execution_count": 6,
   "id": "4b29eba6-346c-4565-b017-5b79e575ac25",
   "metadata": {},
   "outputs": [
    {
     "data": {
      "text/plain": [
       "<matplotlib.lines.Line2D at 0x14fea7ac0>"
      ]
     },
     "execution_count": 6,
     "metadata": {},
     "output_type": "execute_result"
    },
    {
     "data": {
      "image/png": "[encoded data removed]",
      "text/plain": [
       "<Figure size 1200x600 with 1 Axes>"
      ]
     },
     "metadata": {},
     "output_type": "display_data"
    }
   ],
   "source": [
    "fig,ax = plt.subplots(1,1,figsize=(12,6))\n",
    "df.plot(x='BG WL', y='u\\' BG',ax=ax,color='b',label=\"u\\'\")\n",
    "df.plot(x='BG WL', y='g\\' BG',ax=ax,color='g',label=\"g\\'\")\n",
    "df.plot(x='BG WL', y='r\\' BG',ax=ax,color='r',label=\"r\\'\")\n",
    "df.plot(x='BG WL', y='I\\' BG',ax=ax,color='orange',label=\"I\\'\")\n",
    "df.plot(x='BG WL', y='z\\' BG',ax=ax,color='grey',label=\"z\\'\")\n",
    "df.plot(x='BG WL', y='y\\' BG',ax=ax,color='k',label=\"y\\'\")\n",
    "ax.legend()\n",
    "ax.axvline(11600)"
   ]
  },
  {
   "cell_type": "code",
   "execution_count": 7,
   "id": "4b11800f-6e08-4fd8-b68c-bf53f13b4711",
   "metadata": {},
   "outputs": [
    {
     "data": {
      "text/plain": [
       "<matplotlib.legend.Legend at 0x158159e40>"
      ]
     },
     "execution_count": 7,
     "metadata": {},
     "output_type": "execute_result"
    },
    {
     "data": {
      "image/png": "[encoded data removed]",
      "text/plain": [
       "<Figure size 1200x600 with 1 Axes>"
      ]
     },
     "metadata": {},
     "output_type": "display_data"
    }
   ],
   "source": [
    "fig,ax = plt.subplots(1,1,figsize=(12,6))\n",
    "df.plot(x='u\\' WL', y='u\\' 1',ax=ax,ls=\"-.\",color='b',label=\"u\\' 1\")\n",
    "df.plot(x='u\\' WL', y='u\\' 2',ax=ax,ls=\":\",color='b',label=\"u\\' 2\")\n",
    "df.plot(x='u\\' WL', y='No Filter',ax=ax,ls=\"-\",color='b',label=\"No Filter\")\n",
    "df.plot(x='g\\' WL', y='g\\'',ax=ax,ls=\"-.\",color='g',label=\"g\\'\")\n",
    "\n",
    "df.plot(x='r\\' WL', y='r\\'',ax=ax,ls=\"-.\",color='r',label=\"r\\'\")\n",
    "df.plot(x='i\\' WL', y='I\\'',ax=ax,ls=\"-.\",color='orange',label=\"i\\'\")\n",
    "df.plot(x='z\\' WL', y='z\\'',ax=ax,ls=\"-.\",color='grey',label=\"z\\'\")\n",
    "df.plot(x='y\\' WL', y='y\\'',ax=ax,ls=\"-.\",color='k',label=\"y\\'\")\n",
    "ax.legend()"
   ]
  },
  {
   "cell_type": "markdown",
   "id": "103172fa-0784-44e0-9e97-119d291be2de",
   "metadata": {},
   "source": [
    "## Write filters for auxtel_SDSS"
   ]
  },
  {
   "cell_type": "code",
   "execution_count": 8,
   "id": "b369fc5b-cad3-4c72-8afe-1841357303f3",
   "metadata": {},
   "outputs": [],
   "source": [
    "#auxtel_sdss_up.dat\n",
    "# Wavelength(nm)  Throughput(0-1)"
   ]
  },
  {
   "cell_type": "markdown",
   "id": "56e1bdfe-b91c-4494-8d50-ea4f056b642d",
   "metadata": {},
   "source": [
    "### U filter"
   ]
  },
  {
   "cell_type": "code",
   "execution_count": 9,
   "id": "b45e9af9-14ca-4b99-bf2c-f0955dbc5bf9",
   "metadata": {},
   "outputs": [],
   "source": [
    "filename_filter = 'auxtel_sdss_up.dat'"
   ]
  },
  {
   "cell_type": "code",
   "execution_count": 10,
   "id": "0d6dee59-b413-4c1f-82e5-89b4aff89fb1",
   "metadata": {},
   "outputs": [],
   "source": [
    "df_u =df[['BG WL','u\\' BG']].rename(columns={'BG WL':'Wavelength(A)','u\\' BG':'Throughput(0-1)'})"
   ]
  },
  {
   "cell_type": "code",
   "execution_count": 11,
   "id": "d5cf9182-4fbd-4dc5-bff8-49471248f3d3",
   "metadata": {},
   "outputs": [
    {
     "data": {
      "text/html": [
       "<div>\n",
       "<style scoped>\n",
       "    .dataframe tbody tr th:only-of-type {\n",
       "        vertical-align: middle;\n",
       "    }\n",
       "\n",
       "    .dataframe tbody tr th {\n",
       "        vertical-align: top;\n",
       "    }\n",
       "\n",
       "    .dataframe thead th {\n",
       "        text-align: right;\n",
       "    }\n",
       "</style>\n",
       "<table border=\"1\" class=\"dataframe\">\n",
       "  <thead>\n",
       "    <tr style=\"text-align: right;\">\n",
       "      <th></th>\n",
       "      <th>Wavelength(A)</th>\n",
       "      <th>Throughput(0-1)</th>\n",
       "    </tr>\n",
       "  </thead>\n",
       "  <tbody>\n",
       "    <tr>\n",
       "      <th>0</th>\n",
       "      <td>3000</td>\n",
       "      <td>0.00065</td>\n",
       "    </tr>\n",
       "    <tr>\n",
       "      <th>1</th>\n",
       "      <td>3010</td>\n",
       "      <td>0.00030</td>\n",
       "    </tr>\n",
       "    <tr>\n",
       "      <th>2</th>\n",
       "      <td>3020</td>\n",
       "      <td>0.00005</td>\n",
       "    </tr>\n",
       "    <tr>\n",
       "      <th>3</th>\n",
       "      <td>3030</td>\n",
       "      <td>0.00000</td>\n",
       "    </tr>\n",
       "    <tr>\n",
       "      <th>4</th>\n",
       "      <td>3040</td>\n",
       "      <td>-0.00005</td>\n",
       "    </tr>\n",
       "    <tr>\n",
       "      <th>...</th>\n",
       "      <td>...</td>\n",
       "      <td>...</td>\n",
       "    </tr>\n",
       "    <tr>\n",
       "      <th>937</th>\n",
       "      <td>12460</td>\n",
       "      <td>0.00020</td>\n",
       "    </tr>\n",
       "    <tr>\n",
       "      <th>938</th>\n",
       "      <td>12470</td>\n",
       "      <td>0.00035</td>\n",
       "    </tr>\n",
       "    <tr>\n",
       "      <th>939</th>\n",
       "      <td>12480</td>\n",
       "      <td>0.00035</td>\n",
       "    </tr>\n",
       "    <tr>\n",
       "      <th>940</th>\n",
       "      <td>12490</td>\n",
       "      <td>0.00000</td>\n",
       "    </tr>\n",
       "    <tr>\n",
       "      <th>941</th>\n",
       "      <td>12500</td>\n",
       "      <td>0.00025</td>\n",
       "    </tr>\n",
       "  </tbody>\n",
       "</table>\n",
       "<p>942 rows × 2 columns</p>\n",
       "</div>"
      ],
      "text/plain": [
       "     Wavelength(A)  Throughput(0-1)\n",
       "0             3000          0.00065\n",
       "1             3010          0.00030\n",
       "2             3020          0.00005\n",
       "3             3030          0.00000\n",
       "4             3040         -0.00005\n",
       "..             ...              ...\n",
       "937          12460          0.00020\n",
       "938          12470          0.00035\n",
       "939          12480          0.00035\n",
       "940          12490          0.00000\n",
       "941          12500          0.00025\n",
       "\n",
       "[942 rows x 2 columns]"
      ]
     },
     "execution_count": 11,
     "metadata": {},
     "output_type": "execute_result"
    }
   ],
   "source": [
    "df_u"
   ]
  },
  {
   "cell_type": "code",
   "execution_count": 12,
   "id": "90279d6b-c1f5-4a62-b9a1-5a8c9e7cc114",
   "metadata": {},
   "outputs": [],
   "source": [
    "df_u =df[['BG WL','u\\' BG']].rename(columns={'BG WL':'Wavelength(A)','u\\' BG':'Throughput(0-1)'})"
   ]
  },
  {
   "cell_type": "code",
   "execution_count": 13,
   "id": "a5abcdf6-3668-4f92-a14b-75b5f924aeb3",
   "metadata": {},
   "outputs": [],
   "source": [
    "df_u['Wavelength(nm)'] = df_u['Wavelength(A)']/10.\n",
    "df_u.drop('Wavelength(A)',axis=1,inplace=True)\n",
    "df_u = df_u[['Wavelength(nm)','Throughput(0-1)']]"
   ]
  },
  {
   "cell_type": "code",
   "execution_count": 14,
   "id": "6e4e4d7a-dc3c-4cd0-8474-b23e05434aed",
   "metadata": {},
   "outputs": [
    {
     "data": {
      "text/html": [
       "<div>\n",
       "<style scoped>\n",
       "    .dataframe tbody tr th:only-of-type {\n",
       "        vertical-align: middle;\n",
       "    }\n",
       "\n",
       "    .dataframe tbody tr th {\n",
       "        vertical-align: top;\n",
       "    }\n",
       "\n",
       "    .dataframe thead th {\n",
       "        text-align: right;\n",
       "    }\n",
       "</style>\n",
       "<table border=\"1\" class=\"dataframe\">\n",
       "  <thead>\n",
       "    <tr style=\"text-align: right;\">\n",
       "      <th></th>\n",
       "      <th>Wavelength(nm)</th>\n",
       "      <th>Throughput(0-1)</th>\n",
       "    </tr>\n",
       "  </thead>\n",
       "  <tbody>\n",
       "    <tr>\n",
       "      <th>0</th>\n",
       "      <td>300.0</td>\n",
       "      <td>0.00065</td>\n",
       "    </tr>\n",
       "    <tr>\n",
       "      <th>1</th>\n",
       "      <td>301.0</td>\n",
       "      <td>0.00030</td>\n",
       "    </tr>\n",
       "    <tr>\n",
       "      <th>2</th>\n",
       "      <td>302.0</td>\n",
       "      <td>0.00005</td>\n",
       "    </tr>\n",
       "    <tr>\n",
       "      <th>3</th>\n",
       "      <td>303.0</td>\n",
       "      <td>0.00000</td>\n",
       "    </tr>\n",
       "    <tr>\n",
       "      <th>4</th>\n",
       "      <td>304.0</td>\n",
       "      <td>-0.00005</td>\n",
       "    </tr>\n",
       "    <tr>\n",
       "      <th>...</th>\n",
       "      <td>...</td>\n",
       "      <td>...</td>\n",
       "    </tr>\n",
       "    <tr>\n",
       "      <th>937</th>\n",
       "      <td>1246.0</td>\n",
       "      <td>0.00020</td>\n",
       "    </tr>\n",
       "    <tr>\n",
       "      <th>938</th>\n",
       "      <td>1247.0</td>\n",
       "      <td>0.00035</td>\n",
       "    </tr>\n",
       "    <tr>\n",
       "      <th>939</th>\n",
       "      <td>1248.0</td>\n",
       "      <td>0.00035</td>\n",
       "    </tr>\n",
       "    <tr>\n",
       "      <th>940</th>\n",
       "      <td>1249.0</td>\n",
       "      <td>0.00000</td>\n",
       "    </tr>\n",
       "    <tr>\n",
       "      <th>941</th>\n",
       "      <td>1250.0</td>\n",
       "      <td>0.00025</td>\n",
       "    </tr>\n",
       "  </tbody>\n",
       "</table>\n",
       "<p>942 rows × 2 columns</p>\n",
       "</div>"
      ],
      "text/plain": [
       "     Wavelength(nm)  Throughput(0-1)\n",
       "0             300.0          0.00065\n",
       "1             301.0          0.00030\n",
       "2             302.0          0.00005\n",
       "3             303.0          0.00000\n",
       "4             304.0         -0.00005\n",
       "..              ...              ...\n",
       "937          1246.0          0.00020\n",
       "938          1247.0          0.00035\n",
       "939          1248.0          0.00035\n",
       "940          1249.0          0.00000\n",
       "941          1250.0          0.00025\n",
       "\n",
       "[942 rows x 2 columns]"
      ]
     },
     "execution_count": 14,
     "metadata": {},
     "output_type": "execute_result"
    }
   ],
   "source": [
    "df_u"
   ]
  },
  {
   "cell_type": "code",
   "execution_count": 15,
   "id": "38f33abf-549b-4034-87be-652e818aa595",
   "metadata": {},
   "outputs": [],
   "source": [
    "cut_wl = (df_u['Wavelength(nm)']>200) & (df_u['Wavelength(nm)']<1160)"
   ]
  },
  {
   "cell_type": "code",
   "execution_count": 16,
   "id": "8d872007-afff-4cd6-8831-816085cddadf",
   "metadata": {},
   "outputs": [],
   "source": [
    "df_u =df_u[cut_wl]"
   ]
  },
  {
   "cell_type": "code",
   "execution_count": 17,
   "id": "77ad133f-878f-45d0-b5c2-aa0d8b762c36",
   "metadata": {},
   "outputs": [
    {
     "name": "stderr",
     "output_type": "stream",
     "text": [
      "/var/folders/79/hrybm_4s0zjd4jsb7lp_trhh0000gp/T/ipykernel_16202/1174684242.py:1: SettingWithCopyWarning: \n",
      "A value is trying to be set on a copy of a slice from a DataFrame\n",
      "\n",
      "See the caveats in the documentation: https://pandas.pydata.org/pandas-docs/stable/user_guide/indexing.html#returning-a-view-versus-a-copy\n",
      "  df_u['Throughput(0-1)'][df_u['Throughput(0-1)']<0] = 0\n"
     ]
    }
   ],
   "source": [
    "df_u['Throughput(0-1)'][df_u['Throughput(0-1)']<0] = 0"
   ]
  },
  {
   "cell_type": "code",
   "execution_count": 18,
   "id": "f63f3d60-9560-4ab8-9c5b-8406027af9c3",
   "metadata": {},
   "outputs": [
    {
     "data": {
      "text/html": [
       "<div>\n",
       "<style scoped>\n",
       "    .dataframe tbody tr th:only-of-type {\n",
       "        vertical-align: middle;\n",
       "    }\n",
       "\n",
       "    .dataframe tbody tr th {\n",
       "        vertical-align: top;\n",
       "    }\n",
       "\n",
       "    .dataframe thead th {\n",
       "        text-align: right;\n",
       "    }\n",
       "</style>\n",
       "<table border=\"1\" class=\"dataframe\">\n",
       "  <thead>\n",
       "    <tr style=\"text-align: right;\">\n",
       "      <th></th>\n",
       "      <th>Wavelength(nm)</th>\n",
       "      <th>Throughput(0-1)</th>\n",
       "    </tr>\n",
       "  </thead>\n",
       "  <tbody>\n",
       "    <tr>\n",
       "      <th>0</th>\n",
       "      <td>300.0</td>\n",
       "      <td>0.00065</td>\n",
       "    </tr>\n",
       "    <tr>\n",
       "      <th>1</th>\n",
       "      <td>301.0</td>\n",
       "      <td>0.00030</td>\n",
       "    </tr>\n",
       "    <tr>\n",
       "      <th>2</th>\n",
       "      <td>302.0</td>\n",
       "      <td>0.00005</td>\n",
       "    </tr>\n",
       "    <tr>\n",
       "      <th>3</th>\n",
       "      <td>303.0</td>\n",
       "      <td>0.00000</td>\n",
       "    </tr>\n",
       "    <tr>\n",
       "      <th>4</th>\n",
       "      <td>304.0</td>\n",
       "      <td>0.00000</td>\n",
       "    </tr>\n",
       "    <tr>\n",
       "      <th>...</th>\n",
       "      <td>...</td>\n",
       "      <td>...</td>\n",
       "    </tr>\n",
       "    <tr>\n",
       "      <th>846</th>\n",
       "      <td>1155.0</td>\n",
       "      <td>0.00000</td>\n",
       "    </tr>\n",
       "    <tr>\n",
       "      <th>847</th>\n",
       "      <td>1156.0</td>\n",
       "      <td>0.00000</td>\n",
       "    </tr>\n",
       "    <tr>\n",
       "      <th>848</th>\n",
       "      <td>1157.0</td>\n",
       "      <td>0.00000</td>\n",
       "    </tr>\n",
       "    <tr>\n",
       "      <th>849</th>\n",
       "      <td>1158.0</td>\n",
       "      <td>0.00000</td>\n",
       "    </tr>\n",
       "    <tr>\n",
       "      <th>850</th>\n",
       "      <td>1159.0</td>\n",
       "      <td>0.00000</td>\n",
       "    </tr>\n",
       "  </tbody>\n",
       "</table>\n",
       "<p>851 rows × 2 columns</p>\n",
       "</div>"
      ],
      "text/plain": [
       "     Wavelength(nm)  Throughput(0-1)\n",
       "0             300.0          0.00065\n",
       "1             301.0          0.00030\n",
       "2             302.0          0.00005\n",
       "3             303.0          0.00000\n",
       "4             304.0          0.00000\n",
       "..              ...              ...\n",
       "846          1155.0          0.00000\n",
       "847          1156.0          0.00000\n",
       "848          1157.0          0.00000\n",
       "849          1158.0          0.00000\n",
       "850          1159.0          0.00000\n",
       "\n",
       "[851 rows x 2 columns]"
      ]
     },
     "execution_count": 18,
     "metadata": {},
     "output_type": "execute_result"
    }
   ],
   "source": [
    "df_u"
   ]
  },
  {
   "cell_type": "code",
   "execution_count": 19,
   "id": "ae5e00f9-bb28-441a-acf6-d312fcdd4b46",
   "metadata": {},
   "outputs": [
    {
     "data": {
      "text/plain": [
       "<Axes: xlabel='Wavelength(nm)'>"
      ]
     },
     "execution_count": 19,
     "metadata": {},
     "output_type": "execute_result"
    },
    {
     "data": {
      "image/png": "[encoded data removed]",
      "text/plain": [
       "<Figure size 600x300 with 1 Axes>"
      ]
     },
     "metadata": {},
     "output_type": "display_data"
    }
   ],
   "source": [
    "fig,ax = plt.subplots(1,1,figsize=(6,3))\n",
    "df_u.plot(x='Wavelength(nm)', y='Throughput(0-1)',ax=ax,color='b',label=\"u\\'\")"
   ]
  },
  {
   "cell_type": "code",
   "execution_count": 20,
   "id": "caabb2a3-b898-4fa7-83a5-f6b91f99a97f",
   "metadata": {},
   "outputs": [
    {
     "data": {
      "text/html": [
       "<div>\n",
       "<style scoped>\n",
       "    .dataframe tbody tr th:only-of-type {\n",
       "        vertical-align: middle;\n",
       "    }\n",
       "\n",
       "    .dataframe tbody tr th {\n",
       "        vertical-align: top;\n",
       "    }\n",
       "\n",
       "    .dataframe thead th {\n",
       "        text-align: right;\n",
       "    }\n",
       "</style>\n",
       "<table border=\"1\" class=\"dataframe\">\n",
       "  <thead>\n",
       "    <tr style=\"text-align: right;\">\n",
       "      <th></th>\n",
       "      <th>Throughput(0-1)</th>\n",
       "    </tr>\n",
       "    <tr>\n",
       "      <th>Wavelength(nm)</th>\n",
       "      <th></th>\n",
       "    </tr>\n",
       "  </thead>\n",
       "  <tbody>\n",
       "    <tr>\n",
       "      <th>300.0</th>\n",
       "      <td>0.00065</td>\n",
       "    </tr>\n",
       "    <tr>\n",
       "      <th>301.0</th>\n",
       "      <td>0.00030</td>\n",
       "    </tr>\n",
       "    <tr>\n",
       "      <th>302.0</th>\n",
       "      <td>0.00005</td>\n",
       "    </tr>\n",
       "    <tr>\n",
       "      <th>303.0</th>\n",
       "      <td>0.00000</td>\n",
       "    </tr>\n",
       "    <tr>\n",
       "      <th>304.0</th>\n",
       "      <td>0.00000</td>\n",
       "    </tr>\n",
       "    <tr>\n",
       "      <th>...</th>\n",
       "      <td>...</td>\n",
       "    </tr>\n",
       "    <tr>\n",
       "      <th>1155.0</th>\n",
       "      <td>0.00000</td>\n",
       "    </tr>\n",
       "    <tr>\n",
       "      <th>1156.0</th>\n",
       "      <td>0.00000</td>\n",
       "    </tr>\n",
       "    <tr>\n",
       "      <th>1157.0</th>\n",
       "      <td>0.00000</td>\n",
       "    </tr>\n",
       "    <tr>\n",
       "      <th>1158.0</th>\n",
       "      <td>0.00000</td>\n",
       "    </tr>\n",
       "    <tr>\n",
       "      <th>1159.0</th>\n",
       "      <td>0.00000</td>\n",
       "    </tr>\n",
       "  </tbody>\n",
       "</table>\n",
       "<p>851 rows × 1 columns</p>\n",
       "</div>"
      ],
      "text/plain": [
       "                Throughput(0-1)\n",
       "Wavelength(nm)                 \n",
       "300.0                   0.00065\n",
       "301.0                   0.00030\n",
       "302.0                   0.00005\n",
       "303.0                   0.00000\n",
       "304.0                   0.00000\n",
       "...                         ...\n",
       "1155.0                  0.00000\n",
       "1156.0                  0.00000\n",
       "1157.0                  0.00000\n",
       "1158.0                  0.00000\n",
       "1159.0                  0.00000\n",
       "\n",
       "[851 rows x 1 columns]"
      ]
     },
     "execution_count": 20,
     "metadata": {},
     "output_type": "execute_result"
    }
   ],
   "source": [
    "df_u.set_index('Wavelength(nm)')"
   ]
  },
  {
   "cell_type": "code",
   "execution_count": 21,
   "id": "a0daf71b-2047-4e57-aa47-51da17df63aa",
   "metadata": {},
   "outputs": [],
   "source": [
    "#df_u.index.rename('Wavelength(nm)',inplace=True)"
   ]
  },
  {
   "cell_type": "code",
   "execution_count": 22,
   "id": "6d9a09ac-d0a3-4b01-94e8-59c111ba0235",
   "metadata": {},
   "outputs": [
    {
     "data": {
      "text/html": [
       "<div>\n",
       "<style scoped>\n",
       "    .dataframe tbody tr th:only-of-type {\n",
       "        vertical-align: middle;\n",
       "    }\n",
       "\n",
       "    .dataframe tbody tr th {\n",
       "        vertical-align: top;\n",
       "    }\n",
       "\n",
       "    .dataframe thead th {\n",
       "        text-align: right;\n",
       "    }\n",
       "</style>\n",
       "<table border=\"1\" class=\"dataframe\">\n",
       "  <thead>\n",
       "    <tr style=\"text-align: right;\">\n",
       "      <th></th>\n",
       "      <th>Wavelength(nm)</th>\n",
       "      <th>Throughput(0-1)</th>\n",
       "    </tr>\n",
       "  </thead>\n",
       "  <tbody>\n",
       "    <tr>\n",
       "      <th>0</th>\n",
       "      <td>300.0</td>\n",
       "      <td>0.00065</td>\n",
       "    </tr>\n",
       "    <tr>\n",
       "      <th>1</th>\n",
       "      <td>301.0</td>\n",
       "      <td>0.00030</td>\n",
       "    </tr>\n",
       "    <tr>\n",
       "      <th>2</th>\n",
       "      <td>302.0</td>\n",
       "      <td>0.00005</td>\n",
       "    </tr>\n",
       "    <tr>\n",
       "      <th>3</th>\n",
       "      <td>303.0</td>\n",
       "      <td>0.00000</td>\n",
       "    </tr>\n",
       "    <tr>\n",
       "      <th>4</th>\n",
       "      <td>304.0</td>\n",
       "      <td>0.00000</td>\n",
       "    </tr>\n",
       "    <tr>\n",
       "      <th>...</th>\n",
       "      <td>...</td>\n",
       "      <td>...</td>\n",
       "    </tr>\n",
       "    <tr>\n",
       "      <th>846</th>\n",
       "      <td>1155.0</td>\n",
       "      <td>0.00000</td>\n",
       "    </tr>\n",
       "    <tr>\n",
       "      <th>847</th>\n",
       "      <td>1156.0</td>\n",
       "      <td>0.00000</td>\n",
       "    </tr>\n",
       "    <tr>\n",
       "      <th>848</th>\n",
       "      <td>1157.0</td>\n",
       "      <td>0.00000</td>\n",
       "    </tr>\n",
       "    <tr>\n",
       "      <th>849</th>\n",
       "      <td>1158.0</td>\n",
       "      <td>0.00000</td>\n",
       "    </tr>\n",
       "    <tr>\n",
       "      <th>850</th>\n",
       "      <td>1159.0</td>\n",
       "      <td>0.00000</td>\n",
       "    </tr>\n",
       "  </tbody>\n",
       "</table>\n",
       "<p>851 rows × 2 columns</p>\n",
       "</div>"
      ],
      "text/plain": [
       "     Wavelength(nm)  Throughput(0-1)\n",
       "0             300.0          0.00065\n",
       "1             301.0          0.00030\n",
       "2             302.0          0.00005\n",
       "3             303.0          0.00000\n",
       "4             304.0          0.00000\n",
       "..              ...              ...\n",
       "846          1155.0          0.00000\n",
       "847          1156.0          0.00000\n",
       "848          1157.0          0.00000\n",
       "849          1158.0          0.00000\n",
       "850          1159.0          0.00000\n",
       "\n",
       "[851 rows x 2 columns]"
      ]
     },
     "execution_count": 22,
     "metadata": {},
     "output_type": "execute_result"
    }
   ],
   "source": [
    "df_u"
   ]
  },
  {
   "cell_type": "code",
   "execution_count": 23,
   "id": "333aeab3-3e8d-4416-be13-9458631d1540",
   "metadata": {},
   "outputs": [],
   "source": [
    "df_u.to_csv(filename_filter,sep=' ',index=False)"
   ]
  },
  {
   "cell_type": "markdown",
   "id": "28103bed-9aef-4a33-9183-e03ad6989244",
   "metadata": {},
   "source": [
    "## g filter"
   ]
  },
  {
   "cell_type": "code",
   "execution_count": 24,
   "id": "93fa84b2-ba15-44a8-a2d1-6b88e691a144",
   "metadata": {},
   "outputs": [],
   "source": [
    "filename_filter = 'auxtel_sdss_gp.dat'"
   ]
  },
  {
   "cell_type": "code",
   "execution_count": 25,
   "id": "17365a22-9e71-4528-8e9c-bd23a87673c0",
   "metadata": {},
   "outputs": [],
   "source": [
    "df_g =df[['BG WL','g\\' BG']].rename(columns={'BG WL':'Wavelength(A)','g\\' BG':'Throughput(0-1)'})"
   ]
  },
  {
   "cell_type": "code",
   "execution_count": 26,
   "id": "541cca2b-26fe-4cad-804c-1fed5c7efc9c",
   "metadata": {},
   "outputs": [
    {
     "data": {
      "text/html": [
       "<div>\n",
       "<style scoped>\n",
       "    .dataframe tbody tr th:only-of-type {\n",
       "        vertical-align: middle;\n",
       "    }\n",
       "\n",
       "    .dataframe tbody tr th {\n",
       "        vertical-align: top;\n",
       "    }\n",
       "\n",
       "    .dataframe thead th {\n",
       "        text-align: right;\n",
       "    }\n",
       "</style>\n",
       "<table border=\"1\" class=\"dataframe\">\n",
       "  <thead>\n",
       "    <tr style=\"text-align: right;\">\n",
       "      <th></th>\n",
       "      <th>Wavelength(A)</th>\n",
       "      <th>Throughput(0-1)</th>\n",
       "    </tr>\n",
       "  </thead>\n",
       "  <tbody>\n",
       "    <tr>\n",
       "      <th>0</th>\n",
       "      <td>3000</td>\n",
       "      <td>-0.00010</td>\n",
       "    </tr>\n",
       "    <tr>\n",
       "      <th>1</th>\n",
       "      <td>3010</td>\n",
       "      <td>-0.00005</td>\n",
       "    </tr>\n",
       "    <tr>\n",
       "      <th>2</th>\n",
       "      <td>3020</td>\n",
       "      <td>-0.00005</td>\n",
       "    </tr>\n",
       "    <tr>\n",
       "      <th>3</th>\n",
       "      <td>3030</td>\n",
       "      <td>-0.00010</td>\n",
       "    </tr>\n",
       "    <tr>\n",
       "      <th>4</th>\n",
       "      <td>3040</td>\n",
       "      <td>-0.00005</td>\n",
       "    </tr>\n",
       "    <tr>\n",
       "      <th>...</th>\n",
       "      <td>...</td>\n",
       "      <td>...</td>\n",
       "    </tr>\n",
       "    <tr>\n",
       "      <th>937</th>\n",
       "      <td>12460</td>\n",
       "      <td>0.51755</td>\n",
       "    </tr>\n",
       "    <tr>\n",
       "      <th>938</th>\n",
       "      <td>12470</td>\n",
       "      <td>0.51165</td>\n",
       "    </tr>\n",
       "    <tr>\n",
       "      <th>939</th>\n",
       "      <td>12480</td>\n",
       "      <td>0.50500</td>\n",
       "    </tr>\n",
       "    <tr>\n",
       "      <th>940</th>\n",
       "      <td>12490</td>\n",
       "      <td>0.49850</td>\n",
       "    </tr>\n",
       "    <tr>\n",
       "      <th>941</th>\n",
       "      <td>12500</td>\n",
       "      <td>0.49600</td>\n",
       "    </tr>\n",
       "  </tbody>\n",
       "</table>\n",
       "<p>942 rows × 2 columns</p>\n",
       "</div>"
      ],
      "text/plain": [
       "     Wavelength(A)  Throughput(0-1)\n",
       "0             3000         -0.00010\n",
       "1             3010         -0.00005\n",
       "2             3020         -0.00005\n",
       "3             3030         -0.00010\n",
       "4             3040         -0.00005\n",
       "..             ...              ...\n",
       "937          12460          0.51755\n",
       "938          12470          0.51165\n",
       "939          12480          0.50500\n",
       "940          12490          0.49850\n",
       "941          12500          0.49600\n",
       "\n",
       "[942 rows x 2 columns]"
      ]
     },
     "execution_count": 26,
     "metadata": {},
     "output_type": "execute_result"
    }
   ],
   "source": [
    "df_g"
   ]
  },
  {
   "cell_type": "code",
   "execution_count": 27,
   "id": "d1c49544-1b75-4a51-b42b-6626348a87d5",
   "metadata": {},
   "outputs": [],
   "source": [
    "df_g['Wavelength(nm)'] = df_g['Wavelength(A)']/10.\n",
    "df_g.drop('Wavelength(A)',axis=1,inplace=True)\n",
    "df_g = df_g[['Wavelength(nm)','Throughput(0-1)']]"
   ]
  },
  {
   "cell_type": "code",
   "execution_count": 28,
   "id": "b2ab0b26-c19b-409a-9438-c35f367b0ec7",
   "metadata": {},
   "outputs": [],
   "source": [
    "cut_wl = (df_g['Wavelength(nm)']>200.) & (df_g['Wavelength(nm)']<1160.)"
   ]
  },
  {
   "cell_type": "code",
   "execution_count": 29,
   "id": "d5719ecf-9ba8-49f4-bda2-e1b4631ba214",
   "metadata": {},
   "outputs": [],
   "source": [
    "df_g = df_g[cut_wl]"
   ]
  },
  {
   "cell_type": "code",
   "execution_count": 30,
   "id": "893ed53f-bf19-4bf0-8d03-f8edfabb0106",
   "metadata": {},
   "outputs": [
    {
     "data": {
      "text/html": [
       "<div>\n",
       "<style scoped>\n",
       "    .dataframe tbody tr th:only-of-type {\n",
       "        vertical-align: middle;\n",
       "    }\n",
       "\n",
       "    .dataframe tbody tr th {\n",
       "        vertical-align: top;\n",
       "    }\n",
       "\n",
       "    .dataframe thead th {\n",
       "        text-align: right;\n",
       "    }\n",
       "</style>\n",
       "<table border=\"1\" class=\"dataframe\">\n",
       "  <thead>\n",
       "    <tr style=\"text-align: right;\">\n",
       "      <th></th>\n",
       "      <th>Wavelength(nm)</th>\n",
       "      <th>Throughput(0-1)</th>\n",
       "    </tr>\n",
       "  </thead>\n",
       "  <tbody>\n",
       "    <tr>\n",
       "      <th>0</th>\n",
       "      <td>300.0</td>\n",
       "      <td>-0.00010</td>\n",
       "    </tr>\n",
       "    <tr>\n",
       "      <th>1</th>\n",
       "      <td>301.0</td>\n",
       "      <td>-0.00005</td>\n",
       "    </tr>\n",
       "    <tr>\n",
       "      <th>2</th>\n",
       "      <td>302.0</td>\n",
       "      <td>-0.00005</td>\n",
       "    </tr>\n",
       "    <tr>\n",
       "      <th>3</th>\n",
       "      <td>303.0</td>\n",
       "      <td>-0.00010</td>\n",
       "    </tr>\n",
       "    <tr>\n",
       "      <th>4</th>\n",
       "      <td>304.0</td>\n",
       "      <td>-0.00005</td>\n",
       "    </tr>\n",
       "    <tr>\n",
       "      <th>...</th>\n",
       "      <td>...</td>\n",
       "      <td>...</td>\n",
       "    </tr>\n",
       "    <tr>\n",
       "      <th>846</th>\n",
       "      <td>1155.0</td>\n",
       "      <td>0.00125</td>\n",
       "    </tr>\n",
       "    <tr>\n",
       "      <th>847</th>\n",
       "      <td>1156.0</td>\n",
       "      <td>0.00145</td>\n",
       "    </tr>\n",
       "    <tr>\n",
       "      <th>848</th>\n",
       "      <td>1157.0</td>\n",
       "      <td>0.00200</td>\n",
       "    </tr>\n",
       "    <tr>\n",
       "      <th>849</th>\n",
       "      <td>1158.0</td>\n",
       "      <td>0.00245</td>\n",
       "    </tr>\n",
       "    <tr>\n",
       "      <th>850</th>\n",
       "      <td>1159.0</td>\n",
       "      <td>0.00295</td>\n",
       "    </tr>\n",
       "  </tbody>\n",
       "</table>\n",
       "<p>851 rows × 2 columns</p>\n",
       "</div>"
      ],
      "text/plain": [
       "     Wavelength(nm)  Throughput(0-1)\n",
       "0             300.0         -0.00010\n",
       "1             301.0         -0.00005\n",
       "2             302.0         -0.00005\n",
       "3             303.0         -0.00010\n",
       "4             304.0         -0.00005\n",
       "..              ...              ...\n",
       "846          1155.0          0.00125\n",
       "847          1156.0          0.00145\n",
       "848          1157.0          0.00200\n",
       "849          1158.0          0.00245\n",
       "850          1159.0          0.00295\n",
       "\n",
       "[851 rows x 2 columns]"
      ]
     },
     "execution_count": 30,
     "metadata": {},
     "output_type": "execute_result"
    }
   ],
   "source": [
    "df_g"
   ]
  },
  {
   "cell_type": "code",
   "execution_count": 31,
   "id": "a02b3624-1992-487c-bb45-4435334c796b",
   "metadata": {},
   "outputs": [],
   "source": [
    "df_g['Throughput(0-1)'][df_g['Throughput(0-1)']<0] = 0"
   ]
  },
  {
   "cell_type": "code",
   "execution_count": 32,
   "id": "e8d9f19a-852e-4e9b-a3d7-4cb79586b846",
   "metadata": {},
   "outputs": [
    {
     "data": {
      "text/plain": [
       "<Axes: xlabel='Wavelength(nm)'>"
      ]
     },
     "execution_count": 32,
     "metadata": {},
     "output_type": "execute_result"
    },
    {
     "data": {
      "image/png": "[encoded data removed]",
      "text/plain": [
       "<Figure size 600x300 with 1 Axes>"
      ]
     },
     "metadata": {},
     "output_type": "display_data"
    }
   ],
   "source": [
    "fig,ax = plt.subplots(1,1,figsize=(6,3))\n",
    "df_g.plot(x='Wavelength(nm)', y='Throughput(0-1)',ax=ax,color='g',label=\"g\\'\")"
   ]
  },
  {
   "cell_type": "code",
   "execution_count": 33,
   "id": "4f5a1c28-29f8-4c44-9ab5-d7e935be9930",
   "metadata": {},
   "outputs": [
    {
     "data": {
      "text/html": [
       "<div>\n",
       "<style scoped>\n",
       "    .dataframe tbody tr th:only-of-type {\n",
       "        vertical-align: middle;\n",
       "    }\n",
       "\n",
       "    .dataframe tbody tr th {\n",
       "        vertical-align: top;\n",
       "    }\n",
       "\n",
       "    .dataframe thead th {\n",
       "        text-align: right;\n",
       "    }\n",
       "</style>\n",
       "<table border=\"1\" class=\"dataframe\">\n",
       "  <thead>\n",
       "    <tr style=\"text-align: right;\">\n",
       "      <th></th>\n",
       "      <th>Throughput(0-1)</th>\n",
       "    </tr>\n",
       "    <tr>\n",
       "      <th>Wavelength(nm)</th>\n",
       "      <th></th>\n",
       "    </tr>\n",
       "  </thead>\n",
       "  <tbody>\n",
       "    <tr>\n",
       "      <th>300.0</th>\n",
       "      <td>0.00000</td>\n",
       "    </tr>\n",
       "    <tr>\n",
       "      <th>301.0</th>\n",
       "      <td>0.00000</td>\n",
       "    </tr>\n",
       "    <tr>\n",
       "      <th>302.0</th>\n",
       "      <td>0.00000</td>\n",
       "    </tr>\n",
       "    <tr>\n",
       "      <th>303.0</th>\n",
       "      <td>0.00000</td>\n",
       "    </tr>\n",
       "    <tr>\n",
       "      <th>304.0</th>\n",
       "      <td>0.00000</td>\n",
       "    </tr>\n",
       "    <tr>\n",
       "      <th>...</th>\n",
       "      <td>...</td>\n",
       "    </tr>\n",
       "    <tr>\n",
       "      <th>1155.0</th>\n",
       "      <td>0.00125</td>\n",
       "    </tr>\n",
       "    <tr>\n",
       "      <th>1156.0</th>\n",
       "      <td>0.00145</td>\n",
       "    </tr>\n",
       "    <tr>\n",
       "      <th>1157.0</th>\n",
       "      <td>0.00200</td>\n",
       "    </tr>\n",
       "    <tr>\n",
       "      <th>1158.0</th>\n",
       "      <td>0.00245</td>\n",
       "    </tr>\n",
       "    <tr>\n",
       "      <th>1159.0</th>\n",
       "      <td>0.00295</td>\n",
       "    </tr>\n",
       "  </tbody>\n",
       "</table>\n",
       "<p>851 rows × 1 columns</p>\n",
       "</div>"
      ],
      "text/plain": [
       "                Throughput(0-1)\n",
       "Wavelength(nm)                 \n",
       "300.0                   0.00000\n",
       "301.0                   0.00000\n",
       "302.0                   0.00000\n",
       "303.0                   0.00000\n",
       "304.0                   0.00000\n",
       "...                         ...\n",
       "1155.0                  0.00125\n",
       "1156.0                  0.00145\n",
       "1157.0                  0.00200\n",
       "1158.0                  0.00245\n",
       "1159.0                  0.00295\n",
       "\n",
       "[851 rows x 1 columns]"
      ]
     },
     "execution_count": 33,
     "metadata": {},
     "output_type": "execute_result"
    }
   ],
   "source": [
    "df_g.set_index('Wavelength(nm)')"
   ]
  },
  {
   "cell_type": "code",
   "execution_count": 34,
   "id": "157b8c04-81dc-42aa-afe9-e4552b4c3da9",
   "metadata": {},
   "outputs": [],
   "source": [
    "df_g.to_csv(filename_filter,sep=' ',index=False)"
   ]
  },
  {
   "cell_type": "markdown",
   "id": "b685104a-ed5d-426b-a413-c98a94364374",
   "metadata": {},
   "source": [
    "### r filter"
   ]
  },
  {
   "cell_type": "code",
   "execution_count": 35,
   "id": "54c5a179-caad-460a-8f63-8a14f1ef25f4",
   "metadata": {},
   "outputs": [],
   "source": [
    "filename_filter = 'auxtel_sdss_rp.dat'"
   ]
  },
  {
   "cell_type": "code",
   "execution_count": 36,
   "id": "56d7e5b0-8d80-4433-a39e-5decd80a3a4a",
   "metadata": {},
   "outputs": [],
   "source": [
    "df_r =df[['BG WL','r\\' BG']].rename(columns={'BG WL':'Wavelength(A)','r\\' BG':'Throughput(0-1)'})"
   ]
  },
  {
   "cell_type": "code",
   "execution_count": 37,
   "id": "cce0a6ff-6182-41eb-8d2d-faf3625729a4",
   "metadata": {},
   "outputs": [
    {
     "data": {
      "text/html": [
       "<div>\n",
       "<style scoped>\n",
       "    .dataframe tbody tr th:only-of-type {\n",
       "        vertical-align: middle;\n",
       "    }\n",
       "\n",
       "    .dataframe tbody tr th {\n",
       "        vertical-align: top;\n",
       "    }\n",
       "\n",
       "    .dataframe thead th {\n",
       "        text-align: right;\n",
       "    }\n",
       "</style>\n",
       "<table border=\"1\" class=\"dataframe\">\n",
       "  <thead>\n",
       "    <tr style=\"text-align: right;\">\n",
       "      <th></th>\n",
       "      <th>Wavelength(A)</th>\n",
       "      <th>Throughput(0-1)</th>\n",
       "    </tr>\n",
       "  </thead>\n",
       "  <tbody>\n",
       "    <tr>\n",
       "      <th>0</th>\n",
       "      <td>3000</td>\n",
       "      <td>-0.00005</td>\n",
       "    </tr>\n",
       "    <tr>\n",
       "      <th>1</th>\n",
       "      <td>3010</td>\n",
       "      <td>-0.00005</td>\n",
       "    </tr>\n",
       "    <tr>\n",
       "      <th>2</th>\n",
       "      <td>3020</td>\n",
       "      <td>-0.00005</td>\n",
       "    </tr>\n",
       "    <tr>\n",
       "      <th>3</th>\n",
       "      <td>3030</td>\n",
       "      <td>-0.00005</td>\n",
       "    </tr>\n",
       "    <tr>\n",
       "      <th>4</th>\n",
       "      <td>3040</td>\n",
       "      <td>-0.00005</td>\n",
       "    </tr>\n",
       "    <tr>\n",
       "      <th>...</th>\n",
       "      <td>...</td>\n",
       "      <td>...</td>\n",
       "    </tr>\n",
       "    <tr>\n",
       "      <th>937</th>\n",
       "      <td>12460</td>\n",
       "      <td>0.57150</td>\n",
       "    </tr>\n",
       "    <tr>\n",
       "      <th>938</th>\n",
       "      <td>12470</td>\n",
       "      <td>0.65090</td>\n",
       "    </tr>\n",
       "    <tr>\n",
       "      <th>939</th>\n",
       "      <td>12480</td>\n",
       "      <td>0.72935</td>\n",
       "    </tr>\n",
       "    <tr>\n",
       "      <th>940</th>\n",
       "      <td>12490</td>\n",
       "      <td>0.79275</td>\n",
       "    </tr>\n",
       "    <tr>\n",
       "      <th>941</th>\n",
       "      <td>12500</td>\n",
       "      <td>0.81270</td>\n",
       "    </tr>\n",
       "  </tbody>\n",
       "</table>\n",
       "<p>942 rows × 2 columns</p>\n",
       "</div>"
      ],
      "text/plain": [
       "     Wavelength(A)  Throughput(0-1)\n",
       "0             3000         -0.00005\n",
       "1             3010         -0.00005\n",
       "2             3020         -0.00005\n",
       "3             3030         -0.00005\n",
       "4             3040         -0.00005\n",
       "..             ...              ...\n",
       "937          12460          0.57150\n",
       "938          12470          0.65090\n",
       "939          12480          0.72935\n",
       "940          12490          0.79275\n",
       "941          12500          0.81270\n",
       "\n",
       "[942 rows x 2 columns]"
      ]
     },
     "execution_count": 37,
     "metadata": {},
     "output_type": "execute_result"
    }
   ],
   "source": [
    "df_r"
   ]
  },
  {
   "cell_type": "code",
   "execution_count": 38,
   "id": "b3b09c3b-fc29-47b2-af32-213d2d3c08b9",
   "metadata": {},
   "outputs": [],
   "source": [
    "df_r['Wavelength(nm)'] = df_r['Wavelength(A)']/10.\n",
    "df_r.drop('Wavelength(A)',axis=1,inplace=True)\n",
    "df_r = df_r[['Wavelength(nm)','Throughput(0-1)']]"
   ]
  },
  {
   "cell_type": "code",
   "execution_count": 39,
   "id": "c10b571b-f43e-448e-ac02-8a17274b25a6",
   "metadata": {},
   "outputs": [
    {
     "name": "stderr",
     "output_type": "stream",
     "text": [
      "/var/folders/79/hrybm_4s0zjd4jsb7lp_trhh0000gp/T/ipykernel_16202/3240302734.py:1: SettingWithCopyWarning: \n",
      "A value is trying to be set on a copy of a slice from a DataFrame\n",
      "\n",
      "See the caveats in the documentation: https://pandas.pydata.org/pandas-docs/stable/user_guide/indexing.html#returning-a-view-versus-a-copy\n",
      "  df_r['Throughput(0-1)'][df_r['Throughput(0-1)']<0] = 0\n"
     ]
    }
   ],
   "source": [
    "df_r['Throughput(0-1)'][df_r['Throughput(0-1)']<0] = 0"
   ]
  },
  {
   "cell_type": "code",
   "execution_count": 40,
   "id": "e5b814f5-5ee0-4c06-9cc0-691a9dcda1c3",
   "metadata": {},
   "outputs": [],
   "source": [
    "cut_wl = (df_r['Wavelength(nm)']>200.) & (df_r['Wavelength(nm)']<1160)"
   ]
  },
  {
   "cell_type": "code",
   "execution_count": 41,
   "id": "057e5214-4ad9-4e2f-8e21-d6585d6f94bb",
   "metadata": {},
   "outputs": [],
   "source": [
    "df_r = df_r[cut_wl]"
   ]
  },
  {
   "cell_type": "code",
   "execution_count": 42,
   "id": "56b27582-4f61-4cb1-8c35-c9f1279e05d9",
   "metadata": {},
   "outputs": [
    {
     "data": {
      "text/plain": [
       "<Axes: xlabel='Wavelength(nm)'>"
      ]
     },
     "execution_count": 42,
     "metadata": {},
     "output_type": "execute_result"
    },
    {
     "data": {
      "image/png": "[encoded data removed]",
      "text/plain": [
       "<Figure size 600x300 with 1 Axes>"
      ]
     },
     "metadata": {},
     "output_type": "display_data"
    }
   ],
   "source": [
    "fig,ax = plt.subplots(1,1,figsize=(6,3))\n",
    "df_r.plot(x='Wavelength(nm)', y='Throughput(0-1)',ax=ax,color='r',label=\"r\\'\")"
   ]
  },
  {
   "cell_type": "code",
   "execution_count": 43,
   "id": "60a119cd-79e7-46ad-b106-80613e351aa1",
   "metadata": {},
   "outputs": [
    {
     "data": {
      "text/html": [
       "<div>\n",
       "<style scoped>\n",
       "    .dataframe tbody tr th:only-of-type {\n",
       "        vertical-align: middle;\n",
       "    }\n",
       "\n",
       "    .dataframe tbody tr th {\n",
       "        vertical-align: top;\n",
       "    }\n",
       "\n",
       "    .dataframe thead th {\n",
       "        text-align: right;\n",
       "    }\n",
       "</style>\n",
       "<table border=\"1\" class=\"dataframe\">\n",
       "  <thead>\n",
       "    <tr style=\"text-align: right;\">\n",
       "      <th></th>\n",
       "      <th>Throughput(0-1)</th>\n",
       "    </tr>\n",
       "    <tr>\n",
       "      <th>Wavelength(nm)</th>\n",
       "      <th></th>\n",
       "    </tr>\n",
       "  </thead>\n",
       "  <tbody>\n",
       "    <tr>\n",
       "      <th>300.0</th>\n",
       "      <td>0.0000</td>\n",
       "    </tr>\n",
       "    <tr>\n",
       "      <th>301.0</th>\n",
       "      <td>0.0000</td>\n",
       "    </tr>\n",
       "    <tr>\n",
       "      <th>302.0</th>\n",
       "      <td>0.0000</td>\n",
       "    </tr>\n",
       "    <tr>\n",
       "      <th>303.0</th>\n",
       "      <td>0.0000</td>\n",
       "    </tr>\n",
       "    <tr>\n",
       "      <th>304.0</th>\n",
       "      <td>0.0000</td>\n",
       "    </tr>\n",
       "    <tr>\n",
       "      <th>...</th>\n",
       "      <td>...</td>\n",
       "    </tr>\n",
       "    <tr>\n",
       "      <th>1155.0</th>\n",
       "      <td>0.0000</td>\n",
       "    </tr>\n",
       "    <tr>\n",
       "      <th>1156.0</th>\n",
       "      <td>0.0000</td>\n",
       "    </tr>\n",
       "    <tr>\n",
       "      <th>1157.0</th>\n",
       "      <td>0.0000</td>\n",
       "    </tr>\n",
       "    <tr>\n",
       "      <th>1158.0</th>\n",
       "      <td>0.0000</td>\n",
       "    </tr>\n",
       "    <tr>\n",
       "      <th>1159.0</th>\n",
       "      <td>0.0003</td>\n",
       "    </tr>\n",
       "  </tbody>\n",
       "</table>\n",
       "<p>851 rows × 1 columns</p>\n",
       "</div>"
      ],
      "text/plain": [
       "                Throughput(0-1)\n",
       "Wavelength(nm)                 \n",
       "300.0                    0.0000\n",
       "301.0                    0.0000\n",
       "302.0                    0.0000\n",
       "303.0                    0.0000\n",
       "304.0                    0.0000\n",
       "...                         ...\n",
       "1155.0                   0.0000\n",
       "1156.0                   0.0000\n",
       "1157.0                   0.0000\n",
       "1158.0                   0.0000\n",
       "1159.0                   0.0003\n",
       "\n",
       "[851 rows x 1 columns]"
      ]
     },
     "execution_count": 43,
     "metadata": {},
     "output_type": "execute_result"
    }
   ],
   "source": [
    "df_r.set_index('Wavelength(nm)')"
   ]
  },
  {
   "cell_type": "code",
   "execution_count": 44,
   "id": "386263a8-9ea3-4ad0-81ee-3e0bd52a095a",
   "metadata": {},
   "outputs": [],
   "source": [
    "df_r.to_csv(filename_filter,sep=' ',index=False)"
   ]
  },
  {
   "cell_type": "markdown",
   "id": "71b0325e-4d55-45f1-9ccf-5c47a7c42ac4",
   "metadata": {},
   "source": [
    "### I Filter"
   ]
  },
  {
   "cell_type": "code",
   "execution_count": 45,
   "id": "0e16980b-de24-487c-9a8d-edf0b10011c7",
   "metadata": {},
   "outputs": [],
   "source": [
    "filename_filter = 'auxtel_sdss_ip.dat'"
   ]
  },
  {
   "cell_type": "code",
   "execution_count": 46,
   "id": "631a49a1-c007-4af1-955a-47c6a985f124",
   "metadata": {},
   "outputs": [],
   "source": [
    "df_i =df[['BG WL','I\\' BG']].rename(columns={'BG WL':'Wavelength(A)','I\\' BG':'Throughput(0-1)'})"
   ]
  },
  {
   "cell_type": "code",
   "execution_count": 47,
   "id": "046adbab-bdde-4545-afc1-98e8adff987e",
   "metadata": {},
   "outputs": [],
   "source": [
    "df_i['Wavelength(nm)'] = df_i['Wavelength(A)']/10.\n",
    "df_i.drop('Wavelength(A)',axis=1,inplace=True)\n",
    "df_i = df_i[['Wavelength(nm)','Throughput(0-1)']]"
   ]
  },
  {
   "cell_type": "code",
   "execution_count": 48,
   "id": "8b99d69e-e67f-4dc8-9c3c-b0b94b88a8ec",
   "metadata": {},
   "outputs": [],
   "source": [
    "df_i['Throughput(0-1)'][df_i['Throughput(0-1)']<0] = 0"
   ]
  },
  {
   "cell_type": "code",
   "execution_count": 49,
   "id": "b36e8826-e3a9-4567-a128-1e1650eb5966",
   "metadata": {},
   "outputs": [],
   "source": [
    "cut_wl = (df_i['Wavelength(nm)']>200.) & (df_i['Wavelength(nm)']<1160)"
   ]
  },
  {
   "cell_type": "code",
   "execution_count": 50,
   "id": "bcae7be0-660c-4190-aa7a-f59718103145",
   "metadata": {},
   "outputs": [],
   "source": [
    "df_i = df_i[cut_wl]"
   ]
  },
  {
   "cell_type": "code",
   "execution_count": 51,
   "id": "87e99959-9d7d-437f-9394-9f744d16fce2",
   "metadata": {},
   "outputs": [
    {
     "data": {
      "text/plain": [
       "<Axes: xlabel='Wavelength(nm)'>"
      ]
     },
     "execution_count": 51,
     "metadata": {},
     "output_type": "execute_result"
    },
    {
     "data": {
      "image/png": "[encoded data removed]",
      "text/plain": [
       "<Figure size 600x300 with 1 Axes>"
      ]
     },
     "metadata": {},
     "output_type": "display_data"
    }
   ],
   "source": [
    "fig,ax = plt.subplots(1,1,figsize=(6,3))\n",
    "df_i.plot(x='Wavelength(nm)', y='Throughput(0-1)',ax=ax,color='orange',label=\"i\\'\")"
   ]
  },
  {
   "cell_type": "code",
   "execution_count": 52,
   "id": "03472320-ff38-4618-a02e-041cdd09faab",
   "metadata": {},
   "outputs": [
    {
     "data": {
      "text/html": [
       "<div>\n",
       "<style scoped>\n",
       "    .dataframe tbody tr th:only-of-type {\n",
       "        vertical-align: middle;\n",
       "    }\n",
       "\n",
       "    .dataframe tbody tr th {\n",
       "        vertical-align: top;\n",
       "    }\n",
       "\n",
       "    .dataframe thead th {\n",
       "        text-align: right;\n",
       "    }\n",
       "</style>\n",
       "<table border=\"1\" class=\"dataframe\">\n",
       "  <thead>\n",
       "    <tr style=\"text-align: right;\">\n",
       "      <th></th>\n",
       "      <th>Throughput(0-1)</th>\n",
       "    </tr>\n",
       "    <tr>\n",
       "      <th>Wavelength(nm)</th>\n",
       "      <th></th>\n",
       "    </tr>\n",
       "  </thead>\n",
       "  <tbody>\n",
       "    <tr>\n",
       "      <th>300.0</th>\n",
       "      <td>0.00000</td>\n",
       "    </tr>\n",
       "    <tr>\n",
       "      <th>301.0</th>\n",
       "      <td>0.00000</td>\n",
       "    </tr>\n",
       "    <tr>\n",
       "      <th>302.0</th>\n",
       "      <td>0.00000</td>\n",
       "    </tr>\n",
       "    <tr>\n",
       "      <th>303.0</th>\n",
       "      <td>0.00000</td>\n",
       "    </tr>\n",
       "    <tr>\n",
       "      <th>304.0</th>\n",
       "      <td>0.00000</td>\n",
       "    </tr>\n",
       "    <tr>\n",
       "      <th>...</th>\n",
       "      <td>...</td>\n",
       "    </tr>\n",
       "    <tr>\n",
       "      <th>1155.0</th>\n",
       "      <td>0.00000</td>\n",
       "    </tr>\n",
       "    <tr>\n",
       "      <th>1156.0</th>\n",
       "      <td>0.00020</td>\n",
       "    </tr>\n",
       "    <tr>\n",
       "      <th>1157.0</th>\n",
       "      <td>0.00045</td>\n",
       "    </tr>\n",
       "    <tr>\n",
       "      <th>1158.0</th>\n",
       "      <td>0.00085</td>\n",
       "    </tr>\n",
       "    <tr>\n",
       "      <th>1159.0</th>\n",
       "      <td>0.00120</td>\n",
       "    </tr>\n",
       "  </tbody>\n",
       "</table>\n",
       "<p>851 rows × 1 columns</p>\n",
       "</div>"
      ],
      "text/plain": [
       "                Throughput(0-1)\n",
       "Wavelength(nm)                 \n",
       "300.0                   0.00000\n",
       "301.0                   0.00000\n",
       "302.0                   0.00000\n",
       "303.0                   0.00000\n",
       "304.0                   0.00000\n",
       "...                         ...\n",
       "1155.0                  0.00000\n",
       "1156.0                  0.00020\n",
       "1157.0                  0.00045\n",
       "1158.0                  0.00085\n",
       "1159.0                  0.00120\n",
       "\n",
       "[851 rows x 1 columns]"
      ]
     },
     "execution_count": 52,
     "metadata": {},
     "output_type": "execute_result"
    }
   ],
   "source": [
    "df_i.set_index('Wavelength(nm)')"
   ]
  },
  {
   "cell_type": "code",
   "execution_count": 53,
   "id": "8e62f9f0-df51-418f-9786-1570e33ee170",
   "metadata": {},
   "outputs": [],
   "source": [
    "df_i.to_csv(filename_filter,sep=' ',index=False)"
   ]
  },
  {
   "cell_type": "markdown",
   "id": "6d9ba037-6632-4202-a8c8-4e6ae52380cb",
   "metadata": {},
   "source": [
    "### z filter"
   ]
  },
  {
   "cell_type": "code",
   "execution_count": 54,
   "id": "6b7daab4-03e5-47df-b7e8-9a48ce8b7aca",
   "metadata": {},
   "outputs": [],
   "source": [
    "filename_filter = 'auxtel_sdss_zp.dat'"
   ]
  },
  {
   "cell_type": "code",
   "execution_count": 55,
   "id": "c3b8ab10-2ef4-4812-9226-8a8ebd5d06cd",
   "metadata": {},
   "outputs": [],
   "source": [
    "df_z =df[['BG WL','z\\' BG']].rename(columns={'BG WL':'Wavelength(A)','z\\' BG':'Throughput(0-1)'})"
   ]
  },
  {
   "cell_type": "code",
   "execution_count": 56,
   "id": "d81522c5-9228-467c-adb0-25e9d8b00cc9",
   "metadata": {},
   "outputs": [],
   "source": [
    "df_z['Wavelength(nm)'] = df_z['Wavelength(A)']/10.\n",
    "df_z.drop('Wavelength(A)',axis=1,inplace=True)\n",
    "df_z = df_z[['Wavelength(nm)','Throughput(0-1)']]"
   ]
  },
  {
   "cell_type": "code",
   "execution_count": 57,
   "id": "246eda9d-9274-43ea-a172-5f06434aa1a9",
   "metadata": {},
   "outputs": [],
   "source": [
    "df_z['Throughput(0-1)'][df_z['Throughput(0-1)']<0] = 0"
   ]
  },
  {
   "cell_type": "code",
   "execution_count": 58,
   "id": "f5d65445-1896-45e8-b878-fc7556f63f2e",
   "metadata": {},
   "outputs": [],
   "source": [
    "cut_wl = (df_z['Wavelength(nm)']>200.) & (df_z['Wavelength(nm)']<1160)\n",
    "cut_wl1 = df_z['Wavelength(nm)']>200. \n",
    "cut_wl2 = df_z['Wavelength(nm)']<1160"
   ]
  },
  {
   "cell_type": "code",
   "execution_count": 59,
   "id": "506f00b2-31c6-4664-8483-ffb8689f24d0",
   "metadata": {},
   "outputs": [
    {
     "name": "stderr",
     "output_type": "stream",
     "text": [
      "/var/folders/79/hrybm_4s0zjd4jsb7lp_trhh0000gp/T/ipykernel_16202/160897916.py:2: UserWarning: Boolean Series key will be reindexed to match DataFrame index.\n",
      "  df_z = df_z[cut_wl1]\n"
     ]
    }
   ],
   "source": [
    "df_z = df_z[cut_wl]\n",
    "df_z = df_z[cut_wl1]"
   ]
  },
  {
   "cell_type": "code",
   "execution_count": 60,
   "id": "2847acd1-c772-4d12-bbb1-d1fd093064f2",
   "metadata": {},
   "outputs": [
    {
     "data": {
      "text/plain": [
       "<Axes: xlabel='Wavelength(nm)'>"
      ]
     },
     "execution_count": 60,
     "metadata": {},
     "output_type": "execute_result"
    },
    {
     "data": {
      "image/png": "[encoded data removed]",
      "text/plain": [
       "<Figure size 600x300 with 1 Axes>"
      ]
     },
     "metadata": {},
     "output_type": "display_data"
    }
   ],
   "source": [
    "fig,ax = plt.subplots(1,1,figsize=(6,3))\n",
    "df_z.plot(x='Wavelength(nm)', y='Throughput(0-1)',ax=ax,color='grey',label=\"z\\'\")"
   ]
  },
  {
   "cell_type": "code",
   "execution_count": 61,
   "id": "42c12bae-a1d4-4b88-bada-f46fbadd2110",
   "metadata": {},
   "outputs": [],
   "source": [
    "df_z.to_csv(filename_filter,sep=' ',index=False)"
   ]
  },
  {
   "cell_type": "markdown",
   "id": "2ead0504-3be4-459c-bd4b-13c8129333ea",
   "metadata": {},
   "source": [
    "### Y filter"
   ]
  },
  {
   "cell_type": "code",
   "execution_count": 62,
   "id": "1dae8f5e-19f0-4291-b108-1ed2fc615f9d",
   "metadata": {},
   "outputs": [],
   "source": [
    "filename_filter = 'auxtel_sdss_yp.dat'"
   ]
  },
  {
   "cell_type": "code",
   "execution_count": 63,
   "id": "f64f53ff-8510-4221-a797-8be725a9ba7e",
   "metadata": {},
   "outputs": [],
   "source": [
    "df_y =df[['BG WL','y\\' BG']].rename(columns={'BG WL':'Wavelength(A)','y\\' BG':'Throughput(0-1)'})"
   ]
  },
  {
   "cell_type": "code",
   "execution_count": 64,
   "id": "82565769-4a81-4500-9745-c84c9d7a90f9",
   "metadata": {},
   "outputs": [],
   "source": [
    "df_y['Wavelength(nm)'] = df_y['Wavelength(A)']/10.\n",
    "df_y.drop('Wavelength(A)',axis=1,inplace=True)\n",
    "df_y = df_y[['Wavelength(nm)','Throughput(0-1)']]"
   ]
  },
  {
   "cell_type": "code",
   "execution_count": 65,
   "id": "63ca27e7-8063-4a49-bd68-8ac099280325",
   "metadata": {},
   "outputs": [],
   "source": [
    "df_y['Throughput(0-1)'][df_y['Throughput(0-1)']<0] = 0"
   ]
  },
  {
   "cell_type": "code",
   "execution_count": 66,
   "id": "4ad8d110-e5fc-41e7-9cee-5ba51c0e72db",
   "metadata": {},
   "outputs": [],
   "source": [
    "cut_wl = (df_y['Wavelength(nm)']>200.) & (df_y['Wavelength(nm)']<1160)"
   ]
  },
  {
   "cell_type": "code",
   "execution_count": 67,
   "id": "b5ba4fbb-520e-4bdf-96ae-5207adf65dc6",
   "metadata": {},
   "outputs": [],
   "source": [
    "df_y = df_y[cut_wl]"
   ]
  },
  {
   "cell_type": "code",
   "execution_count": 68,
   "id": "6eb75cc1-1552-4cc4-81d5-00130d94f91b",
   "metadata": {},
   "outputs": [
    {
     "data": {
      "text/plain": [
       "<Axes: xlabel='Wavelength(nm)'>"
      ]
     },
     "execution_count": 68,
     "metadata": {},
     "output_type": "execute_result"
    },
    {
     "data": {
      "image/png": "[encoded data removed]",
      "text/plain": [
       "<Figure size 600x300 with 1 Axes>"
      ]
     },
     "metadata": {},
     "output_type": "display_data"
    }
   ],
   "source": [
    "fig,ax = plt.subplots(1,1,figsize=(6,3))\n",
    "df_y.plot(x='Wavelength(nm)', y='Throughput(0-1)',ax=ax,color='k',label=\"y\\'\")"
   ]
  },
  {
   "cell_type": "code",
   "execution_count": 69,
   "id": "07ba75a1-c3cd-4944-9fac-1e415f09fd2d",
   "metadata": {},
   "outputs": [],
   "source": [
    "df_y.to_csv(filename_filter,sep=' ',index=False)"
   ]
  },
  {
   "cell_type": "code",
   "execution_count": null,
   "id": "fdb9b301-9481-45f5-9702-f0ef3649e04e",
   "metadata": {},
   "outputs": [],
   "source": []
  }
 ],
 "metadata": {
  "kernelspec": {
   "display_name": "conda_py310",
   "language": "python",
   "name": "conda_py310"
  },
  "language_info": {
   "codemirror_mode": {
    "name": "ipython",
    "version": 3
   },
   "file_extension": ".py",
   "mimetype": "text/x-python",
   "name": "python",
   "nbconvert_exporter": "python",
   "pygments_lexer": "ipython3",
   "version": "3.10.12"
  }
 },
 "nbformat": 4,
 "nbformat_minor": 5
}
